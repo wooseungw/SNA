{
 "cells": [
  {
   "cell_type": "markdown",
   "metadata": {},
   "source": [
    "1. ReLU 계층은 역전파(backward)에서 두 종류의 값을 출력한다(왼쪽으로 전달한다). 무슨 값인가?"
   ]
  },
  {
   "cell_type": "markdown",
   "metadata": {},
   "source": [
    "$ \\frac{\\delta L}{\\delta y} (x >0), 0(x <=0 )$"
   ]
  },
  {
   "cell_type": "markdown",
   "metadata": {},
   "source": [
    "_________________________________________\n",
    "2. Sigmoid 계층에 순전파 입력이 1 이었다.\n",
    "\n",
    "(1). 순전파 출력은?\n",
    "\n",
    "(2). 그 후, 역전파 입력이 $ \\frac{\\delta L}{\\delta Y} = e+1$이었다고 할 때 역전파 출력은?"
   ]
  },
  {
   "cell_type": "markdown",
   "metadata": {},
   "source": [
    "(1) $\\frac{1}{1+e^{-1}} = \\frac{e}{e+1} $\n",
    "\n",
    "(2) $ dx = \\frac{e}{e+1} = \\frac{\\delta L}{\\delta Y}y(1-y) = (e+1)\\frac{e}{e+1}\\frac{1}{e+1}$"
   ]
  },
  {
   "cell_type": "markdown",
   "metadata": {},
   "source": [
    "________________________________________\n",
    "3. $W = \\begin{bmatrix}1&0&-1 \\\\1&2&1\\end{bmatrix}, B = (1,-1,0.5) $인 Affine 계층에, (1, 2)이 입력되었다.\n",
    "\n",
    "(1) 이 Affine 계층의 입력되는 노드의 개수와 출력되는 노드의 개수는?\n",
    "\n",
    "(2)출력 Y값은?\n",
    "\n",
    "(3)$ \\frac{\\delta L}{\\delta Y} = (1,0,2)일때 \\frac{\\delta L}{\\delta W}, \\frac{\\delta L}{\\delta B} $\n",
    "\n",
    "<참고> Affine 계층에서 dx 변수를 멤버 변수에 포함시키지 않았다."
   ]
  },
  {
   "cell_type": "markdown",
   "metadata": {},
   "source": [
    "(1) 입력노드 2개, 출력노드 3개 \n",
    "\n",
    "(2) (4 ,3 ,1.5)\n",
    "\n",
    "(3-1) $\\frac{\\delta L}{\\delta W} =  \\begin{bmatrix} 1\\\\2 \\end{bmatrix}(1,0,-2)= \\begin{bmatrix}1&0&-2\\\\ 2&0&-4\\end{bmatrix}$\n",
    "\n",
    "(3-2) $ \\frac{\\delta L}{\\delta B} =( 1,0,2)$"
   ]
  },
  {
   "cell_type": "markdown",
   "metadata": {},
   "source": [
    "_______________________________________\n",
    "4. Softmax-with-Loss 계층의 순전파 입력 값이 (1,1,1)이었고 입력 정답 레이블이(1,1,0)이었다.\n",
    "\n",
    "(1) Softmax-with-Loss 계층의 순전파 출력값은? 답을 숫자로 표현하시오.\n",
    "\n",
    "(2) Softmax-with-Loss 계층의 역전파 출력값은? "
   ]
  },
  {
   "cell_type": "markdown",
   "metadata": {},
   "source": [
    " $(\\frac{e}{3e},\\frac{e}{3e},\\frac{e}{3e}) = (\\frac{1}{3},\\frac{1}{3},\\frac{1}{3}) $\n",
    " \n",
    "(1) loss = $ log(1\\frac{1}{3} +1\\frac{1}{3} +0\\frac{1}{3}) = log\\frac{2}{3} = -2log3$\n",
    "\n",
    "(2) $(1\\frac{1}{3},1\\frac{1}{3},1\\frac{1}{3}) - (1,1,0) = (-\\frac{2}{3},-\\frac{2}{3},\\frac{1}{3})$"
   ]
  }
 ],
 "metadata": {
  "kernelspec": {
   "display_name": "base",
   "language": "python",
   "name": "python3"
  },
  "language_info": {
   "codemirror_mode": {
    "name": "ipython",
    "version": 3
   },
   "file_extension": ".py",
   "mimetype": "text/x-python",
   "name": "python",
   "nbconvert_exporter": "python",
   "pygments_lexer": "ipython3",
   "version": "3.11.4"
  }
 },
 "nbformat": 4,
 "nbformat_minor": 2
}
