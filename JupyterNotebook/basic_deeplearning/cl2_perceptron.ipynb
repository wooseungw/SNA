{
 "cells": [
  {
   "cell_type": "code",
   "execution_count": 2,
   "metadata": {},
   "outputs": [],
   "source": [
    "import pandas as pd\n",
    "import numpy as np"
   ]
  },
  {
   "cell_type": "markdown",
   "metadata": {},
   "source": [
    "1. 그림 2-1 AND 게이트에서 입력과 출력은?\n"
   ]
  },
  {
   "cell_type": "markdown",
   "metadata": {},
   "source": [
    "input = x1,x2\n",
    "\n",
    "출력: \n",
    "\n",
    "if w1*x1 + w2*x2 <= $\\theta$\n",
    "\n",
    "    output == 1\n",
    "\n",
    "else\n",
    "\n",
    "    output == 0\n"
   ]
  },
  {
   "cell_type": "markdown",
   "metadata": {},
   "source": [
    "![Alt text](image.png)"
   ]
  },
  {
   "cell_type": "markdown",
   "metadata": {},
   "source": [
    "- (0.4, 0.4, 0.5)"
   ]
  },
  {
   "cell_type": "code",
   "execution_count": 17,
   "metadata": {},
   "outputs": [
    {
     "name": "stdout",
     "output_type": "stream",
     "text": [
      "(0, 0) (1, 0) (0, 1) (1, 1)\n",
      "0 0 0 1\n"
     ]
    }
   ],
   "source": [
    "def AND(x1,x2):\n",
    "    w1,w2, theta = 0.4,0.4,0.5\n",
    "    tmp = x1*w1 + x2*w2\n",
    "    if tmp - theta <= 0:\n",
    "        return 0\n",
    "    elif tmp - theta > 0:\n",
    "        return 1\n",
    "    \n",
    "\n",
    "print((0,0),(1,0),(0,1),(1,1))\n",
    "print(AND(0,0),AND(1,0),AND(0,1),AND(1,1))"
   ]
  },
  {
   "cell_type": "markdown",
   "metadata": {},
   "source": [
    "![Alt text](image-1.png)"
   ]
  },
  {
   "cell_type": "markdown",
   "metadata": {},
   "source": [
    "- (0.2, 0.2, -0.1)"
   ]
  },
  {
   "cell_type": "code",
   "execution_count": 16,
   "metadata": {},
   "outputs": [
    {
     "name": "stdout",
     "output_type": "stream",
     "text": [
      "(0, 0) (1, 0) (0, 1) (1, 1)\n",
      "0 1 1 1\n"
     ]
    }
   ],
   "source": [
    "def OR(x1,x2):\n",
    "    w = np.array([0.2,0.2])\n",
    "    bias = -0.1\n",
    "    tmp = x1*w[0] + x2*w[1]\n",
    "    if tmp + bias <= 0:\n",
    "        return 0\n",
    "    elif tmp + bias > 0:\n",
    "        return 1\n",
    "    \n",
    "\n",
    "print((0,0),(1,0),(0,1),(1,1))\n",
    "print(OR(0,0),OR(1,0),OR(0,1),OR(1,1))"
   ]
  },
  {
   "cell_type": "markdown",
   "metadata": {},
   "source": [
    "3. XOR 게이트의 진리표를 적으시오"
   ]
  },
  {
   "cell_type": "code",
   "execution_count": 23,
   "metadata": {},
   "outputs": [
    {
     "data": {
      "text/html": [
       "<div>\n",
       "<style scoped>\n",
       "    .dataframe tbody tr th:only-of-type {\n",
       "        vertical-align: middle;\n",
       "    }\n",
       "\n",
       "    .dataframe tbody tr th {\n",
       "        vertical-align: top;\n",
       "    }\n",
       "\n",
       "    .dataframe thead th {\n",
       "        text-align: right;\n",
       "    }\n",
       "</style>\n",
       "<table border=\"1\" class=\"dataframe\">\n",
       "  <thead>\n",
       "    <tr style=\"text-align: right;\">\n",
       "      <th></th>\n",
       "      <th>x1</th>\n",
       "      <th>x2</th>\n",
       "      <th>y</th>\n",
       "    </tr>\n",
       "  </thead>\n",
       "  <tbody>\n",
       "    <tr>\n",
       "      <th>0</th>\n",
       "      <td>0</td>\n",
       "      <td>0</td>\n",
       "      <td>0</td>\n",
       "    </tr>\n",
       "    <tr>\n",
       "      <th>1</th>\n",
       "      <td>1</td>\n",
       "      <td>0</td>\n",
       "      <td>1</td>\n",
       "    </tr>\n",
       "    <tr>\n",
       "      <th>2</th>\n",
       "      <td>0</td>\n",
       "      <td>1</td>\n",
       "      <td>1</td>\n",
       "    </tr>\n",
       "    <tr>\n",
       "      <th>3</th>\n",
       "      <td>1</td>\n",
       "      <td>1</td>\n",
       "      <td>0</td>\n",
       "    </tr>\n",
       "  </tbody>\n",
       "</table>\n",
       "</div>"
      ],
      "text/plain": [
       "   x1  x2  y\n",
       "0   0   0  0\n",
       "1   1   0  1\n",
       "2   0   1  1\n",
       "3   1   1  0"
      ]
     },
     "execution_count": 23,
     "metadata": {},
     "output_type": "execute_result"
    }
   ],
   "source": [
    "xor = pd.DataFrame([[0,0,0],\n",
    "                    [1,0,1],\n",
    "                    [0,1,1],\n",
    "                    [1,1,0]],columns=[\"x1\",\"x2\",\"y\"])\n",
    "xor"
   ]
  },
  {
   "cell_type": "markdown",
   "metadata": {},
   "source": [
    "4. XOR 게이트를 단층 퍼셉트론으로 표현할 수 없는 이유를 설명하시오"
   ]
  },
  {
   "cell_type": "markdown",
   "metadata": {},
   "source": [
    " - (0,0),(1,0),(0,1),(1,1)을 각각 0 1 1 0으로 출력해야 하는데 단층퍼셉트론은 1차방정식 꼴이므로 나눌수 없다."
   ]
  },
  {
   "cell_type": "markdown",
   "metadata": {},
   "source": [
    "5. XOR 게이트를 다층 퍼셉트론으로 적절히 표현하시오. 그림 또는 글로 설명해도 좋음."
   ]
  },
  {
   "cell_type": "markdown",
   "metadata": {},
   "source": [
    "- x1,x2를 각각 NAND,OR게이트를 통과 시킨 결과를 s1,s2라 할때 s1과 s2의 값으로 AND게이트를 통과시키면 x1,x2에 대한 XOR게이트가 된다."
   ]
  },
  {
   "cell_type": "markdown",
   "metadata": {},
   "source": [
    "6. XOR를 표현하는 2층 퍼셉트론을 그리시오. (옵션) 가중치와 편향을 요령껏 적절히 적어 넣어보시오"
   ]
  },
  {
   "cell_type": "markdown",
   "metadata": {},
   "source": [
    "![Alt text](image-3.png)"
   ]
  },
  {
   "cell_type": "markdown",
   "metadata": {},
   "source": [
    "$s_1 = \\begin{cases} 0( 0.5 + -0.4x_1 + -0.4x_2 \\leq 0) \\\\  1( 0.5 + -0.4x_1 + -0.4x_2 > 0)\\end{cases}$\n",
    "\n",
    "$s_2 = \\begin{cases} 0( -0.1 + 0.2x_1 + 0.2x_2 \\leq 0) \\\\  1( -0.1 + 0.2x_1 + 0.2x_2 > 0)\\end{cases}$\n",
    "\n",
    "\n",
    "$y = \\begin{cases} 0( -0.5 + 0.4s_1 + 0.4s_2 \\leq 0) \\\\  1( -0.5 + 0.4s_1 + 0.4s_2 > 0)\\end{cases}$"
   ]
  },
  {
   "cell_type": "markdown",
   "metadata": {},
   "source": [
    "7. XOR를 파이썬으로 구현하고 입력 x1, x2의 모든 조합에 대해 XOR 진리표와 같음을 보이시오."
   ]
  },
  {
   "cell_type": "code",
   "execution_count": 37,
   "metadata": {},
   "outputs": [
    {
     "name": "stdout",
     "output_type": "stream",
     "text": [
      "(0,0), (1,0), (0,1), (1,1)\n",
      "NAND 1 1 1 0\n",
      "XOR  0 1 1 0\n"
     ]
    }
   ],
   "source": [
    "def NAND(x1,x2):\n",
    "    w = np.array([-0.4,-0.4])\n",
    "    bias = 0.5\n",
    "    tmp = x1*w[0] + x2*w[1]\n",
    "    if tmp + bias <= 0:\n",
    "        return 0\n",
    "    elif tmp + bias > 0:\n",
    "        return 1\n",
    "print(\"(0,0), (1,0), (0,1), (1,1)\")\n",
    "print(\"NAND\",NAND(0,0),NAND(1,0),NAND(0,1),NAND(1,1))\n",
    "\n",
    "def XOR(x1,x2):\n",
    "    s1 = NAND(x1,x2)\n",
    "    s2 = OR(x1,x2)\n",
    "    return AND(s1,s2)\n",
    "\n",
    "print(\"XOR \",XOR(0,0),XOR(1,0),XOR(0,1),XOR(1,1))"
   ]
  }
 ],
 "metadata": {
  "kernelspec": {
   "display_name": "transformer",
   "language": "python",
   "name": "python3"
  },
  "language_info": {
   "codemirror_mode": {
    "name": "ipython",
    "version": 3
   },
   "file_extension": ".py",
   "mimetype": "text/x-python",
   "name": "python",
   "nbconvert_exporter": "python",
   "pygments_lexer": "ipython3",
   "version": "3.11.4"
  },
  "orig_nbformat": 4
 },
 "nbformat": 4,
 "nbformat_minor": 2
}
