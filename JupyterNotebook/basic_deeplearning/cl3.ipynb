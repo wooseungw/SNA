{
 "cells": [
  {
   "cell_type": "code",
   "execution_count": 1,
   "metadata": {},
   "outputs": [],
   "source": [
    "import numpy as np"
   ]
  },
  {
   "cell_type": "markdown",
   "metadata": {},
   "source": [
    "1. 시그모이드 함수 의 범위(range)는? h(0) 값은? h(1)과 h(-2)중 어느 것이 큰가?"
   ]
  },
  {
   "cell_type": "code",
   "execution_count": 11,
   "metadata": {},
   "outputs": [
    {
     "name": "stdout",
     "output_type": "stream",
     "text": [
      "0.5\n",
      "0.7310585786300049 0.11920292202211755\n",
      "h(1)이 더 큽니다.\n"
     ]
    }
   ],
   "source": [
    "def h(x):\n",
    "    return 1/(1+np.exp(-x))\n",
    "\n",
    "print(h(0))\n",
    "print(h(1),h(-2))\n",
    "print(\"h(1)이 더 큽니다.\")"
   ]
  },
  {
   "cell_type": "markdown",
   "metadata": {},
   "source": [
    "2. 계단 함수, 시그모이드 함수, Relu 함수의 파이썬 함수를 적으시오. 단, 넘파이 배열을 입력으로 받게하시오."
   ]
  },
  {
   "cell_type": "code",
   "execution_count": 37,
   "metadata": {},
   "outputs": [
    {
     "name": "stdout",
     "output_type": "stream",
     "text": [
      "[0 0 0 1 1 1]\n",
      "[3.35350130e-04 1.79862100e-02 5.00000000e-01 5.24979187e-01\n",
      " 8.80797078e-01 9.82013790e-01]\n",
      "[0.  0.  0.  0.1 2.  4. ]\n"
     ]
    }
   ],
   "source": [
    "sample_arr = np.array([-8,-4,0,0.1,2,4])\n",
    "\n",
    "def step_fuction(x):\n",
    "    y = x > 0\n",
    "    return y.astype(np.int64)\n",
    "\n",
    "print(step_fuction(sample_arr))\n",
    "\n",
    "def sigmoid(x):\n",
    "    return 1/(1+np.exp(-x))\n",
    "\n",
    "print(sigmoid(sample_arr))\n",
    "\n",
    "def Relu(x):\n",
    "    return np.maximum(0,x)\n",
    "\n",
    "print(Relu(sample_arr))"
   ]
  },
  {
   "cell_type": "markdown",
   "metadata": {},
   "source": [
    "3. 신경망에서 은닉층 노드의 활성함수를 선형 함수로 사용하면 은닉층을 둔 효과가 없어짐이 이해되는가? 간단히 설명해 보시오."
   ]
  },
  {
   "cell_type": "markdown",
   "metadata": {},
   "source": [
    "신경망은 활성함수의 합성함수 꼴입니다. \n",
    "\n",
    "활성함수로 선형함수를 사용하게 되면 n개의 층을 쌓더라도 결국 상수*X의 꼴로 직선이 되기 때문에 층을 쌓는 의미가 없습니다."
   ]
  },
  {
   "cell_type": "markdown",
   "metadata": {},
   "source": [
    "4. 다음 두 행렬 곱을 각각 계산하시오."
   ]
  },
  {
   "cell_type": "code",
   "execution_count": 22,
   "metadata": {},
   "outputs": [
    {
     "name": "stdout",
     "output_type": "stream",
     "text": [
      "a,b의 곱\n",
      "[[ 5 -2]\n",
      " [12 -3]]\n",
      "c,d의 곱\n",
      "[[ 5 11 17]]\n"
     ]
    }
   ],
   "source": [
    "a= np.array([[1,2,0],\n",
    "    [3,4,1]])\n",
    "b = np.array([[1,0],\n",
    "   [2,-1],\n",
    "   [1,1]])\n",
    "\n",
    "c=np.array([[1,2]])\n",
    "d= ([[1,3,5],\n",
    "    [2,4,6]])\n",
    "\n",
    "print(\"a,b의 곱\")\n",
    "print(np.dot(a,b))\n",
    "print(\"c,d의 곱\")\n",
    "print(np.dot(c,d))"
   ]
  },
  {
   "cell_type": "markdown",
   "metadata": {},
   "source": [
    "5. 다음 신경망에서 입력이x1=2,x2=-1일 때, 행렬을 이용하여 출력 y1,y2,y3을 구하는 수식을\n",
    "적고,y1,y2을 구하는 파이썬 코드를 작성하시오. 단, 활성함수는 적용하지 않는다."
   ]
  },
  {
   "cell_type": "markdown",
   "metadata": {},
   "source": [
    "$y_1 = -1*2 + 2*-1 = -4$\n",
    "\n",
    "$y_2 = 3*2 + 4*-1 = 2$\n",
    "\n",
    "$y_3 = 5*2 + -1*-1 = 9$"
   ]
  },
  {
   "cell_type": "code",
   "execution_count": 38,
   "metadata": {},
   "outputs": [
    {
     "name": "stdout",
     "output_type": "stream",
     "text": [
      "(2, 3)\n",
      "(1, 2)\n",
      "[[-4  2 11]]\n"
     ]
    }
   ],
   "source": [
    "W = np.array([[-1,3,5],\n",
    "                   [2,4,-1]])\n",
    "X = np.array([[2,-1]])\n",
    "\n",
    "print(W.shape)\n",
    "print(X.shape)\n",
    "print(np.dot(X,W))"
   ]
  },
  {
   "cell_type": "markdown",
   "metadata": {},
   "source": [
    "6. 다음 신경망에서, 다음 주어진 값과 행렬을 이용하여 출력y1,y2을 구하는 수식을 적고, y1,y2을 구하는 파이썬 코드를 작성하시오. 단, 활성함수는 적용하지 않는다. "
   ]
  },
  {
   "cell_type": "markdown",
   "metadata": {},
   "source": [
    "$y_1 = w_{11}^{(1)}x_1 + w_{12}^{(1)}x_2+ w_{13}^{(1)}x_3 = 1*x_1 + 0*x_2 + $\n",
    "\n",
    "$y_2 = w_{21}^{(1)}x_1 + w_{22}^{(1)}x_2+ w_{23}^{(1)}x_3$"
   ]
  },
  {
   "cell_type": "code",
   "execution_count": 35,
   "metadata": {},
   "outputs": [
    {
     "name": "stdout",
     "output_type": "stream",
     "text": [
      "(3, 2)\n",
      "(1, 3)\n",
      "[[-1  1]]\n"
     ]
    }
   ],
   "source": [
    "W = np.array([[1,0],\n",
    "              [0,2],\n",
    "              [3,1]])\n",
    "X = np.array([[2,1,-1]])\n",
    "\n",
    "\n",
    "\n",
    "print(W.shape)\n",
    "print(X.shape)\n",
    "print(np.dot(X,W))"
   ]
  },
  {
   "cell_type": "markdown",
   "metadata": {},
   "source": [
    "7. 기호 $w_{32}^{(1)}$는 무엇을 의미하는가? 설명하시오. "
   ]
  },
  {
   "cell_type": "markdown",
   "metadata": {},
   "source": [
    "첫번째 층의 뉴런을 의미하며 다음층의 3번째 뉴런, 앞층의 2번째 뉴런을 의미합니다."
   ]
  },
  {
   "cell_type": "markdown",
   "metadata": {},
   "source": [
    "8. [식 3.8]과 같이 $a_2^{(1)},a_3^{(1)}$을 표현하시오. 이를 시그마 기호 $\\sum$를 사용하여 나타낼 수 있는가?\n"
   ]
  },
  {
   "cell_type": "markdown",
   "metadata": {},
   "source": [
    "$a_2^{(1)} = w_{21}^{(1)}x_1+w_{22}^{(1)}x_2 +b_2^{(1)}$\n",
    "\n",
    "\n",
    "$a_3^{(1)} = w_{31}^{(1)}x_1+w_{32}^{(1)}x_2 +b_3^{(1)}$\n",
    "\n",
    "$\\sum_{i=1}^N w_{i1}^{(1)}x_1+w_{i2}^{(1)}x_2 +b_i^{(1)}$"
   ]
  }
 ],
 "metadata": {
  "kernelspec": {
   "display_name": "base",
   "language": "python",
   "name": "python3"
  },
  "language_info": {
   "codemirror_mode": {
    "name": "ipython",
    "version": 3
   },
   "file_extension": ".py",
   "mimetype": "text/x-python",
   "name": "python",
   "nbconvert_exporter": "python",
   "pygments_lexer": "ipython3",
   "version": "3.11.4"
  },
  "orig_nbformat": 4
 },
 "nbformat": 4,
 "nbformat_minor": 2
}
