{
 "cells": [
  {
   "cell_type": "code",
   "execution_count": 1,
   "metadata": {},
   "outputs": [],
   "source": [
    "%matplotlib inline\n",
    "\n",
    "import numpy as np\n",
    "import matplotlib.pyplot as plt"
   ]
  },
  {
   "attachments": {},
   "cell_type": "markdown",
   "metadata": {},
   "source": [
    " $$ A = \\begin{pmatrix} 0&1\\\\ 1&2\\\\ \\end{pmatrix} B = \\begin{pmatrix} 2&1&3 \\\\ -1&1&0\\\\ \\end{pmatrix}$$"
   ]
  },
  {
   "attachments": {},
   "cell_type": "markdown",
   "metadata": {},
   "source": [
    " $$ A^t와 B^t 를 구하시오.$$\n",
    " \n",
    " $$ A^t = \\begin{pmatrix} 0&1\\\\ 1&2\\\\ \\end{pmatrix}\n",
    "  B^t = \\begin{pmatrix} 2&-1 \\\\ 1&1\\\\ 3&0\\\\ \\end{pmatrix}$$\n",
    " "
   ]
  },
  {
   "attachments": {},
   "cell_type": "markdown",
   "metadata": {},
   "source": [
    "\n",
    "$$ AB = \\begin{pmatrix}  -1&1&0\\\\ 0&3&3\\\\ \\end{pmatrix}$$"
   ]
  },
  {
   "attachments": {},
   "cell_type": "markdown",
   "metadata": {},
   "source": [
    "\n",
    "$$A \\circ A^t =  \\begin{pmatrix}  0&1\\\\ 1&4\\\\ \\end{pmatrix}$$"
   ]
  },
  {
   "attachments": {},
   "cell_type": "markdown",
   "metadata": {},
   "source": [
    "\n",
    "$$ A-A^t = \\begin{pmatrix}  0&0\\\\ 0&0\\\\ \\end{pmatrix}$$"
   ]
  },
  {
   "attachments": {},
   "cell_type": "markdown",
   "metadata": {},
   "source": [
    "$$|A| = det A = 0*1 - 1*2 =  -1$$"
   ]
  },
  {
   "cell_type": "markdown",
   "metadata": {},
   "source": [
    "$$A^{-1} = {1\\over2*1 - 1*0}\\begin{pmatrix}   0&-1 \\\\ -1&2 \\end{pmatrix} = \\begin{pmatrix}   -2&1 \\\\ 1&0 \\end{pmatrix}  $$"
   ]
  },
  {
   "attachments": {},
   "cell_type": "markdown",
   "metadata": {},
   "source": [
    "$$ \\sum_{k=1}^l a_{1k}b_{k2} ,  \\sum_{k=1}^l a_{ik}b_{kj} $$ \n"
   ]
  },
  {
   "cell_type": "code",
   "execution_count": 26,
   "metadata": {},
   "outputs": [
    {
     "name": "stdout",
     "output_type": "stream",
     "text": [
      "At와 Bt\n",
      "[[0 1]\n",
      " [1 2]]\n",
      "\n",
      "[[ 2 -1]\n",
      " [ 1  1]\n",
      " [ 3  0]]\n",
      "\n",
      "AB\n",
      "[[-1  1  0]\n",
      " [ 0  3  3]]\n",
      "\n",
      "AoB\n",
      "[[0 1]\n",
      " [1 4]]\n",
      "\n",
      "A-At\n",
      "[[0 0]\n",
      " [0 0]]\n",
      "\n",
      "A-At\n",
      "[[0 0]\n",
      " [0 0]]\n",
      "\n",
      "Adet\n",
      "-1.0\n",
      "\n",
      "Areverse\n",
      "[[-2.  1.]\n",
      " [ 1.  0.]]\n",
      "\n"
     ]
    }
   ],
   "source": [
    "#(8) 파이썬 프로그램을 작성하여, 위 (1) ~ (6)의 결과를 확인하시오.\n",
    "\n",
    "a = np.array([[0, 1],\n",
    "              [1, 2]]) \n",
    "at = a.T\n",
    "\n",
    "\n",
    "adet = np.linalg.det(a)\n",
    "arev = np.linalg.inv(a)\n",
    "\n",
    "\n",
    "b = np.array([[2,1,3],\n",
    "              [-1,1,0],\n",
    "              ])  # 3×2의 행렬\n",
    "bt = b.T\n",
    "\n",
    "print(\"At와 Bt\")\n",
    "print(at)\n",
    "print()\n",
    "print(bt)\n",
    "print()\n",
    "\n",
    "print(\"AB\")\n",
    "print(a.dot(b))\n",
    "print()\n",
    "\n",
    "print(\"AoB\")\n",
    "print(np.multiply(a,at))\n",
    "print()\n",
    "\n",
    "print(\"A-At\")\n",
    "print(a-at)\n",
    "print()\n",
    "\n",
    "print(\"A-At\")\n",
    "print(a-at)\n",
    "print()\n",
    "\n",
    "print(\"Adet\")\n",
    "print(adet)\n",
    "print()\n",
    "\n",
    "print(\"Areverse\")\n",
    "print(arev)\n",
    "print()"
   ]
  },
  {
   "cell_type": "code",
   "execution_count": 35,
   "metadata": {},
   "outputs": [
    {
     "name": "stdout",
     "output_type": "stream",
     "text": [
      "행렬식: 2.0 \n",
      "\n",
      "역행렬\n",
      " [[ 0.5  0.5 -2.5]\n",
      " [-1.   0.   2. ]\n",
      " [ 1.  -0.  -1. ]]\n"
     ]
    }
   ],
   "source": [
    "#(9) 다음 행렬의 행렬식과 역행렬을 구하시오.\n",
    "\n",
    "c = [[0,1,2],\n",
    "     [2,4,3],\n",
    "     [0,1,1]]\n",
    "c = np.array(c)\n",
    "cdet = np.linalg.det(c)\n",
    "crev = np.linalg.inv(c)\n",
    "print(\"행렬식:\",cdet,\"\\n\")\n",
    "print(\"역행렬\\n\",crev)"
   ]
  },
  {
   "attachments": {},
   "cell_type": "markdown",
   "metadata": {},
   "source": [
    "$$  \n",
    "  Cx = \\begin{pmatrix}  0&1&2\\\\ 2&4&3\\\\ 0&1&1\\\\ \\end{pmatrix}\\begin{pmatrix}  1\\\\ 2\\\\ 3\\\\ \\end{pmatrix}\n",
    "  $$"
   ]
  },
  {
   "cell_type": "code",
   "execution_count": 41,
   "metadata": {},
   "outputs": [
    {
     "name": "stdout",
     "output_type": "stream",
     "text": [
      "[ 8 19  5]\n"
     ]
    }
   ],
   "source": [
    "#(10) 위 행렬  와 벡터     의 곱   를 구하시오.\n",
    "#<참고> 행렬(선형변환)  에 의해 벡터  는   로 변환된다(옮겨진다)고 말한다.\n",
    "x = np.array([1,2,3])\n",
    "\n",
    "print(c.dot(x.T))\n",
    "\n"
   ]
  },
  {
   "cell_type": "code",
   "execution_count": null,
   "metadata": {},
   "outputs": [],
   "source": []
  }
 ],
 "metadata": {
  "kernelspec": {
   "display_name": "base",
   "language": "python",
   "name": "python3"
  },
  "language_info": {
   "codemirror_mode": {
    "name": "ipython",
    "version": 3
   },
   "file_extension": ".py",
   "mimetype": "text/x-python",
   "name": "python",
   "nbconvert_exporter": "python",
   "pygments_lexer": "ipython3",
   "version": "3.9.13"
  },
  "orig_nbformat": 4
 },
 "nbformat": 4,
 "nbformat_minor": 2
}
