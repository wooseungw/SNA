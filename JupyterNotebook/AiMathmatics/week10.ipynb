{
 "cells": [
  {
   "cell_type": "code",
   "execution_count": 20,
   "metadata": {},
   "outputs": [
    {
     "name": "stdout",
     "output_type": "stream",
     "text": [
      "6.0\n",
      "7.0\n",
      "2.5\n",
      "2.5\n",
      "2.5\n"
     ]
    }
   ],
   "source": [
    "#(16)\n",
    "import numpy as np\n",
    "\n",
    "x = [5,7,4,8]\n",
    "y = [6,8,5,9]\n",
    "\n",
    "x = np.array(x)\n",
    "y = np.array(y)\n",
    "\n",
    "print(np.average(x))\n",
    "print(np.average(y))\n",
    "\n",
    "print((1/len(x))*(np.sum((x-np.average(x))**2)))\n",
    "print(np.var(x))\n",
    "print((1/len(y))*(np.sum((y-np.average(y))**2)))\n"
   ]
  },
  {
   "cell_type": "code",
   "execution_count": 23,
   "metadata": {},
   "outputs": [
    {
     "name": "stdout",
     "output_type": "stream",
     "text": [
      "3.333333333333333\n",
      "2.5\n"
     ]
    }
   ],
   "source": [
    "#(17)\n",
    "print(np.cov(x,y)[0,1])\n",
    "def covariance(x,y):\n",
    "    av_x = np.average(x)\n",
    "    av_y = np.average(y)\n",
    "    \n",
    "    return np.average((x-np.average(x))*(y-np.average(y)))\n",
    "\n",
    "print(covariance(x,y))"
   ]
  },
  {
   "cell_type": "code",
   "execution_count": 28,
   "metadata": {},
   "outputs": [
    {
     "name": "stdout",
     "output_type": "stream",
     "text": [
      "0.9999999999999998\n"
     ]
    }
   ],
   "source": [
    "#(18)\n",
    "print(covariance(x,y)/(np.std(x)*np.std(y)))"
   ]
  },
  {
   "attachments": {},
   "cell_type": "markdown",
   "metadata": {},
   "source": [
    "(3)\n",
    "\n",
    "E(x) = 0.5+2.1+2.0+0.8 = 5.4"
   ]
  },
  {
   "attachments": {},
   "cell_type": "markdown",
   "metadata": {},
   "source": [
    "(5)\n",
    "\n",
    "\n",
    "$$\\sum = \\begin{pmatrix} 6&-1\\\\ -1&7\\\\ \\end{pmatrix}$$"
   ]
  },
  {
   "attachments": {},
   "cell_type": "markdown",
   "metadata": {},
   "source": [
    "(7)\n",
    "\n",
    "$$P(1|흰) = {2\\over3}$$"
   ]
  },
  {
   "attachments": {},
   "cell_type": "markdown",
   "metadata": {},
   "source": [
    "(8)불량을 r이라 할때\n",
    "\n",
    "$$P(r) = 0.003*0.6 + 0.05*0.4 = 0.0038$$\n",
    "\n"
   ]
  },
  {
   "attachments": {},
   "cell_type": "markdown",
   "metadata": {},
   "source": [
    "(13)\n",
    "\n",
    "F"
   ]
  },
  {
   "cell_type": "code",
   "execution_count": 6,
   "metadata": {},
   "outputs": [
    {
     "name": "stdout",
     "output_type": "stream",
     "text": [
      "3.333333333333333 3.333333333333333\n",
      "3.333333333333333 3.333333333333333\n"
     ]
    }
   ],
   "source": [
    "#(17)\n",
    "\n",
    "import numpy as np\n",
    "import matplotlib.pyplot as plt\n",
    "\n",
    "x = np.array([5,7,4,8])\n",
    "y = np.array([6,8,5,9])\n",
    "cov_x = np.cov(x-np.average(x))\n",
    "cov_y = np.cov(y-np.average(y))\n",
    "cov_xy = np.cov(x-np.average(x),y-np.average(y))[0,1]\n",
    "\n",
    "print(cov_x, cov_xy)\n",
    "print(cov_xy, cov_y)"
   ]
  }
 ],
 "metadata": {
  "kernelspec": {
   "display_name": "base",
   "language": "python",
   "name": "python3"
  },
  "language_info": {
   "codemirror_mode": {
    "name": "ipython",
    "version": 3
   },
   "file_extension": ".py",
   "mimetype": "text/x-python",
   "name": "python",
   "nbconvert_exporter": "python",
   "pygments_lexer": "ipython3",
   "version": "3.9.13"
  },
  "orig_nbformat": 4
 },
 "nbformat": 4,
 "nbformat_minor": 2
}
