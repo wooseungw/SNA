{
 "cells": [
  {
   "attachments": {},
   "cell_type": "markdown",
   "metadata": {},
   "source": [
    "다음 행렬 A 와 벡터 x,y 에 대하여 다음 질문에 답하시오. LaTex을 이용하여 Markdown셀에 답을 쓰시오. 참고:\n",
    " $$ A = \\begin{pmatrix} -1&1\\\\ 5&3\\\\ \\end{pmatrix} \\vec{x} = \\begin{pmatrix} -1,&2 \\end{pmatrix} , \\vec{y} = \\begin{pmatrix} 1,&1 \\end{pmatrix} $$\n",
    " "
   ]
  },
  {
   "attachments": {},
   "cell_type": "markdown",
   "metadata": {},
   "source": [
    " (1)\n",
    "  $$  \\vec{x} {}\\vec{y} = 1-2  따라서 직교하지 않음$$"
   ]
  },
  {
   "attachments": {},
   "cell_type": "markdown",
   "metadata": {},
   "source": [
    "(2)\n",
    "$$ 코사인 유사도 =  {\\vec{x}\\cdot\\vec{y} \\over \\sqrt{5}\\sqrt{2}} =  {-1\\over \\sqrt{10}}$$"
   ]
  },
  {
   "attachments": {},
   "cell_type": "markdown",
   "metadata": {},
   "source": [
    "(3)\n",
    "$$ A\\vec{x} = \\begin{pmatrix} -3,&-1 \\end{pmatrix}$$"
   ]
  },
  {
   "attachments": {},
   "cell_type": "markdown",
   "metadata": {},
   "source": [
    "(4)고유값\n",
    "$$det(A-\\lambda E) = 0=\\begin{pmatrix} -1&1\\\\ 5&3\\\\ \\end{pmatrix}  - \\lambda \\begin{pmatrix} 1&0\\\\ 0&1\\\\ \\end{pmatrix}  ,\\lambda  = 4 { or}-2 $$\n",
    "고유벡터\n",
    "$$ \\lambda = 4 , {1\\over \\sqrt{26}}\\begin{pmatrix} 5,&1 \\end{pmatrix} $$\n",
    "$$ \\lambda = -1 , {1\\over \\sqrt{2}}\\begin{pmatrix} 1,&-1 \\end{pmatrix} $$"
   ]
  },
  {
   "attachments": {},
   "cell_type": "markdown",
   "metadata": {},
   "source": [
    "고유값 을행렬로 만들면 d= ([1 , 0],\n",
    "                            [0 , 5]) 고유벡터를 행렬로 만들면 p = [[1,1],\n",
    "                                                                [-1,3]]\n",
    "a = [[2,1],[3,4]]\n",
    "ap = [[1,2],[-1,15]]\n",
    "dp = [[1,1],\n",
    "    [-5,15]]"
   ]
  },
  {
   "cell_type": "code",
   "execution_count": 7,
   "metadata": {},
   "outputs": [
    {
     "name": "stdout",
     "output_type": "stream",
     "text": [
      "[[ 1  5]\n",
      " [-1 15]]\n",
      "[[ 1  5]\n",
      " [-1 15]]\n",
      "d^3= \n",
      " [[  1   0]\n",
      " [  0 125]]\n"
     ]
    }
   ],
   "source": [
    "#고유값 을행렬로 만들면 d= ([1 , 0],[0 , 5]) 고유벡터를 행렬로 만들면 p = [[1,1]=,                             [-1,3]]\n",
    "\n",
    "import numpy as np\n",
    "a = np.array([[2,1],[3,4]])\n",
    "d = np.array([[1,0],[0,5]])\n",
    "p = np.array([[1,1],[-1,3]])\n",
    "print(a.dot(p))\n",
    "print(p.dot(d))\n",
    "#p^-1 \n",
    "#app^-1 = pdp^-1\n",
    "\n",
    "#a^3 = (pdp^-1)(pdp^-1)(pdp^-1) = pd^3p^-1 ,대각행렬은 [[a^n,0], [0,d^n] ]\n",
    "print(\"d^3= \\n\",d.dot(d.dot(d)))\n",
    "\n"
   ]
  },
  {
   "cell_type": "code",
   "execution_count": 19,
   "metadata": {},
   "outputs": [
    {
     "name": "stdout",
     "output_type": "stream",
     "text": [
      "-1 이므로 직교하지 않는다.\n"
     ]
    }
   ],
   "source": [
    "#(5)두  ,  는 직교함을 보이기 위해, 필요한 계산을 수행하는 프로그램을 작성하시오\n",
    "%matplotlib inline\n",
    "\n",
    "import numpy as np\n",
    "import matplotlib.pyplot as plt\n",
    "\n",
    "\n",
    "x = np.array([1, -2]) \n",
    "y = np.array([1,1])\n",
    "\n",
    "A = np.array([[-1, 1],\n",
    "              [5, 3]])\n",
    "result = x.dot(y)\n",
    "if (result ==0):\n",
    "    print(result,\"이므로 직교한다.\")\n",
    "else:\n",
    "    print(result,\"이므로 직교하지 않는다.\")\n"
   ]
  },
  {
   "cell_type": "code",
   "execution_count": 20,
   "metadata": {},
   "outputs": [
    {
     "name": "stdout",
     "output_type": "stream",
     "text": [
      "-0.31622776601683794\n"
     ]
    }
   ],
   "source": [
    "#(6) 두 벡터의 코사인 유사도를 구하는 프로그램을 작성하시오\n",
    "\n",
    "def cos_sim(vec_1,vec_2):\n",
    "    return np.dot(vec_1,vec_2)/(np.linalg.norm(vec_1)*np.linalg.norm(vec_2))\n",
    "\n",
    "\n",
    "\n",
    "print(cos_sim(x,y))"
   ]
  },
  {
   "cell_type": "code",
   "execution_count": 12,
   "metadata": {},
   "outputs": [
    {
     "name": "stdout",
     "output_type": "stream",
     "text": [
      "[-3 -1]\n"
     ]
    }
   ],
   "source": [
    "#(7) 벡터  가 행렬  에 의해 변환(대응)되는 벡터를 구하는 프로그램을 작성하시오.\n",
    "\n",
    "print(A.dot(x))"
   ]
  },
  {
   "cell_type": "code",
   "execution_count": 16,
   "metadata": {},
   "outputs": [
    {
     "name": "stdout",
     "output_type": "stream",
     "text": [
      "고유값: [-2.  4.]\n",
      "고유벡터\n",
      "[[-0.70710678 -0.19611614]\n",
      " [ 0.70710678 -0.98058068]]\n"
     ]
    }
   ],
   "source": [
    "#(8) 행렬  의 고유값과 고유벡터를 구하는 프로그램을 작성하시오. 단, 마지막에 print문으로 고유벡터와 대응하는 고유벡터를 각각 보기좋게 출력하시오. \n",
    "\n",
    "ev = np.linalg.eig(A)\n",
    "\n",
    "print(\"고유값:\",ev[0])\n",
    "print(\"고유벡터\")\n",
    "print(ev[1])\n"
   ]
  }
 ],
 "metadata": {
  "kernelspec": {
   "display_name": "base",
   "language": "python",
   "name": "python3"
  },
  "language_info": {
   "codemirror_mode": {
    "name": "ipython",
    "version": 3
   },
   "file_extension": ".py",
   "mimetype": "text/x-python",
   "name": "python",
   "nbconvert_exporter": "python",
   "pygments_lexer": "ipython3",
   "version": "3.9.13"
  },
  "orig_nbformat": 4
 },
 "nbformat": 4,
 "nbformat_minor": 2
}
