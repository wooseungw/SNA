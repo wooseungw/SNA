{
 "cells": [
  {
   "cell_type": "code",
   "execution_count": 2,
   "metadata": {},
   "outputs": [],
   "source": [
    "import numpy as np"
   ]
  },
  {
   "cell_type": "code",
   "execution_count": null,
   "metadata": {},
   "outputs": [],
   "source": []
  },
  {
   "attachments": {},
   "cell_type": "markdown",
   "metadata": {},
   "source": [
    "a = {1,2,3} b = {x,y}\n",
    "\n",
    "axb = {(1,x),(2,x),(3,x),(1,y),(2,y),(3,y)}\n",
    "\n",
    "bxa = {(x,1),(x,2),(x,3),(y,1),(y,2),(y,3)}\n",
    "\n",
    "곱집합의 크기 abs(a)*abs(b)"
   ]
  },
  {
   "attachments": {},
   "cell_type": "markdown",
   "metadata": {},
   "source": [
    "이항관계:axb의 부분집합의 관계 axb에서의 부분집합을 뽑은것? R = (2,x),(3,x),(1,y),(2,y),(3,y)라 할때 정의역은{1,2,3} 치역은{x,y} 공역은 b"
   ]
  },
  {
   "attachments": {},
   "cell_type": "markdown",
   "metadata": {},
   "source": [
    "A = {2,3,4,7} b = {2,3,4,5,6}\n",
    "\n",
    "A에서 B로의 관계 R이 B가 A로 나누어 떨어지는 순서쌍R = {(2,2),(2,4),(2,6),(3,3),(3,6),(4,4)}\n",
    "\n"
   ]
  },
  {
   "attachments": {},
   "cell_type": "markdown",
   "metadata": {},
   "source": [
    "A와 B의 관계를 row와 columm이 있는 부울 행렬로 나타낼수있다. \n",
    "\n",
    "반사 aRa\n",
    "\n",
    "대칭 aRb -> bRa\n",
    "\n",
    "비대칭 aRb ->x bRa\n",
    "\n",
    "반대칭 aRb, bRa a=b\n",
    "\n",
    "추이관계 aRc,bRc -> aRc이다.\n",
    "\n",
    " 동치관계: 반사 대칭 추이를 모두 만족하는 경우\n",
    "\n",
    "\n"
   ]
  }
 ],
 "metadata": {
  "kernelspec": {
   "display_name": "base",
   "language": "python",
   "name": "python3"
  },
  "language_info": {
   "codemirror_mode": {
    "name": "ipython",
    "version": 3
   },
   "file_extension": ".py",
   "mimetype": "text/x-python",
   "name": "python",
   "nbconvert_exporter": "python",
   "pygments_lexer": "ipython3",
   "version": "3.9.13"
  },
  "orig_nbformat": 4
 },
 "nbformat": 4,
 "nbformat_minor": 2
}
