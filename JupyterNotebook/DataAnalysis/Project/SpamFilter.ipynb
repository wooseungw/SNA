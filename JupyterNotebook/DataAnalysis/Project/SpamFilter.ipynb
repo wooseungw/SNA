{
 "cells": [
  {
   "cell_type": "code",
   "execution_count": 3,
   "metadata": {},
   "outputs": [
    {
     "data": {
      "text/plain": [
       "\"전체 멤버 메일\\n쇼핑후기 분석, 지디디엔, 게스. 후아유, 크로스핏, 직구 등\\n디매 쇼핑후기로 보는 23년 봄 트렌드\\nhttps://bit.ly/3Uu8Hne\\n\\n환불과 실패 끝에 찾은 청바지, 지디디엔 리뷰\\nhttps://bit.ly/3zGxD1f\\n\\n게스 23SS 송강 청바지 테스터 20인\\nhttps://bit.ly/3KL7SCZ\\n\\n후아유 23SS 시그니처 엠블럼 카라티 스웨터 40인\\nhttps://bit.ly/3KKy1St\\n\\n'이 운동' 하면 3개월 내로 인생 최대 피지컬 찍습니다\\nhttps://bit.ly/3UqPT8q\\n\\n노숙자 아님, 키아누 리브스 사복 패션\\nhttps://bit.ly/3ZVf57S\\n\\n스트릿 게시판 https://bit.ly/3JWiPjH\\n\\n\\n언더아머 신세계 시흥 할인 https://bit.ly/3KktUvb\\n롤렉스 신모델 공개 https://bit.ly/41brSUT\\n틴더 월 $500 구독 https://bit.ly/3nVFZPQ\\n\\n\\n24S -20%코드 SPRING20\\nhttps://bit.ly/2ISdavQ\\n\\n매치스 -25% 25GIFTMF\\nhttps://bit.ly/2JKhVuQ\\n\\nSSENSE -350불 무료배송\\nhttps://bit.ly/3Ntdfpn\\n\\n마이테레사 -추가세일\\nhttps://bit.ly/2Vx12GE\\n\\nLN-CC -세일-20% LN-EXTRA-SALE\\nhttps://slooks.top/6opJ/65\\n\\n미스터포터 -10% MRP10THX\\nhttps://bit.ly/3FZjOOK\\n●디젤매니아● 대한민국 일등 패션 커뮤니티 디매인 DMAIN 드림\\nhttps://cafe.naver.com/dieselmania\\n본 메일은 발신전용 입니다. 네이버 서비스관련 궁금하신 사항은 네이버 고객센터에서 확인해주세요.\\nCopyright ⓒ NAVER Corp. All Rights Reserved.\""
      ]
     },
     "execution_count": 3,
     "metadata": {},
     "output_type": "execute_result"
    }
   ],
   "source": [
    "import pandas as pd\n",
    "import numpy as np\n",
    "\n",
    "#csv불러오기(케글의 spam.csv가 cp1252로 인코딩 되어있음, 크롤링한 메일을 사용할땐 utf-8로 해야함)\n",
    "textdf = pd.read_csv('crollingdata_copy.csv',encoding='utf-8')\n",
    "#불필요한 columm제거\n",
    "\n",
    "textdf['contents'][2]"
   ]
  },
  {
   "cell_type": "code",
   "execution_count": 4,
   "metadata": {},
   "outputs": [],
   "source": [
    "from konlpy.tag import Okt\n",
    "import re\n",
    "\n",
    "def remove_stopwords(text):\n",
    "\n",
    "    # 형태소 분석기를 사용하여 형태소 단위로 분할\n",
    "    okt = Okt()\n",
    "    tokens = okt.morphs(text, stem=True)\n",
    "\n",
    "    # 불용어 목록을 정의 (제거하고 싶은 단어들)\n",
    "    stopwords = ['있', '하', '것', '들', '그', '되', '수', '이', '보', '않', '아니', '없', '나', '같', '었', '였', '때문', '그렇', '위하', '때', '그러나', '더']\n",
    "\n",
    "    # 불용어 제거\n",
    "    tokens = [token for token in tokens if token not in stopwords]\n",
    "\n",
    "    # 단어들을 공백으로 구분된 문자열로 변환\n",
    "    filtered_text = ' '.join(tokens)\n",
    "\n",
    "    return filtered_text\n",
    "\n",
    "filtered_text =[]\n",
    "\n",
    "# 불용어 제거\n",
    "for text in textdf['contents'].tolist():\n",
    "    filtered_text.append(remove_stopwords(text))\n",
    "    \n"
   ]
  },
  {
   "cell_type": "code",
   "execution_count": 5,
   "metadata": {},
   "outputs": [
    {
     "name": "stdout",
     "output_type": "stream",
     "text": [
      "[[0.         0.         0.         ... 0.         0.         0.        ]\n",
      " [0.         0.         0.         ... 0.         0.         0.        ]\n",
      " [0.         0.         0.         ... 0.         0.         0.        ]\n",
      " ...\n",
      " [0.         0.         0.         ... 0.         0.         0.        ]\n",
      " [0.         0.         0.         ... 0.         0.         0.        ]\n",
      " [0.07548415 0.         0.         ... 0.         0.         0.        ]]\n"
     ]
    }
   ],
   "source": [
    "\n",
    "from sklearn.feature_extraction.text import CountVectorizer\n",
    "from sklearn.feature_extraction.text import TfidfTransformer\n",
    "\n",
    "#나이브 베이즈 모델에 넣기위해 텍스트를 벡터화해 수치정보로 나타내야함\n",
    "\n",
    "# 단어 카운트 벡터화(리스트 형식만 가능)\n",
    "vectorizer = CountVectorizer(stop_words='english')\n",
    "X = vectorizer.fit_transform(filtered_text)\n",
    "\n",
    "# TF-IDF 변환\n",
    "tfidf_transformer = TfidfTransformer()\n",
    "X_tfidf = tfidf_transformer.fit_transform(X)\n",
    "\n",
    "# 벡터화된 텍스트 출력\n",
    "print(X_tfidf.toarray())\n"
   ]
  },
  {
   "cell_type": "code",
   "execution_count": 6,
   "metadata": {},
   "outputs": [
    {
     "data": {
      "text/plain": [
       "array([1, 0, 1, 1, 1, 0, 1, 1, 0, 1, 0, 1, 1, 0, 0, 1, 1, 1, 2, 2, 1, 1,\n",
       "       0, 2, 1, 0, 1, 1, 1, 1, 1, 0, 0, 1, 1, 1, 1, 1, 0, 1, 1, 0, 1, 1,\n",
       "       1, 1, 1, 1, 0, 1, 1, 1, 1, 2, 1, 0, 1, 1, 1, 1, 0, 1, 0, 1, 1, 1,\n",
       "       1, 1, 1, 1, 1, 0, 1, 1, 1, 1, 1, 1, 1, 1, 1, 1, 0, 0, 0, 1, 1, 1,\n",
       "       0, 0, 0, 0, 1, 1, 0, 2, 0, 1, 1, 1, 1, 1, 1, 1, 1, 2, 2, 1, 2, 1,\n",
       "       1, 2, 0, 2, 0, 1, 1, 2, 2, 0, 0, 1, 1, 0, 1, 2, 0, 1, 1, 1, 0, 1,\n",
       "       0, 1, 2, 0, 1, 1, 1, 1, 2, 0, 1, 2, 2, 2, 2, 0, 2, 0, 1, 2, 2, 0,\n",
       "       0, 1, 2, 0, 0, 1, 1, 2, 1, 2, 2, 0, 0, 1, 1, 1, 1, 1, 0, 1, 1, 0,\n",
       "       0, 1, 1, 1, 2, 1, 1, 1, 2, 0, 1, 1, 0, 2, 0, 0, 1, 2, 1, 2, 1, 0,\n",
       "       2, 0, 1, 0, 0, 2, 1, 1, 1, 1, 1, 2, 1, 1, 1, 1, 1, 1, 0, 0, 2, 2,\n",
       "       0, 1, 1, 0, 2, 1, 2, 1, 1, 2, 0, 1, 0, 1, 1, 2, 0, 2, 0, 1, 1, 0,\n",
       "       0, 1, 2, 2, 2, 0, 1, 0, 1, 1, 1, 0, 0, 1, 1, 2, 2, 0, 1, 0, 1, 1,\n",
       "       1, 2, 2, 2, 0, 1, 1, 1, 0, 1, 1, 1, 2, 2, 1, 0, 2, 0, 2, 1, 1, 1,\n",
       "       1, 1])"
      ]
     },
     "execution_count": 6,
     "metadata": {},
     "output_type": "execute_result"
    }
   ],
   "source": [
    "#라벨링\n",
    "from sklearn.preprocessing import LabelEncoder\n",
    "\n",
    "\n",
    "features = ['ham', 'spam','ad']\n",
    "\n",
    "encorder = LabelEncoder()\n",
    "encorder.fit(features)\n",
    "labels = encorder.transform(textdf['index'])\n",
    "labels"
   ]
  },
  {
   "cell_type": "code",
   "execution_count": 7,
   "metadata": {},
   "outputs": [
    {
     "data": {
      "text/plain": [
       "MultinomialNB()"
      ]
     },
     "execution_count": 7,
     "metadata": {},
     "output_type": "execute_result"
    }
   ],
   "source": [
    "from sklearn.naive_bayes import MultinomialNB\n",
    "\n",
    "# 다항식 나이브 베이즈 모델 생성\n",
    "model = MultinomialNB()\n",
    "\n",
    "# 학습 데이터와 라벨 준비\n",
    "X = X_tfidf.toarray()  # 벡터화된 데이터\n",
    "    # 분류 라벨\n",
    "Y = labels\n",
    "\n",
    "#테스트데이터와 트레이닝데이터 분리\n",
    "from sklearn.model_selection import train_test_split\n",
    "X_train, X_test, y_train, y_test=train_test_split(X, Y, test_size=0.2)\n",
    "\n",
    "# 모델 학습\n",
    "model.fit(X_train, y_train)"
   ]
  },
  {
   "cell_type": "code",
   "execution_count": 10,
   "metadata": {},
   "outputs": [
    {
     "name": "stdout",
     "output_type": "stream",
     "text": [
      "Accuracy: 0.9310\n",
      "precision: 0.9368\n",
      "Recall: 0.9310\n"
     ]
    },
    {
     "data": {
      "image/png": "[encoded data removed]",
      "text/plain": [
       "<Figure size 700x500 with 2 Axes>"
      ]
     },
     "metadata": {},
     "output_type": "display_data"
    }
   ],
   "source": [
    "#혼동행렬과 정확도\n",
    "\n",
    "import numpy as np\n",
    "import seaborn as sns\n",
    "import matplotlib.pyplot as plt\n",
    "from sklearn.metrics import roc_curve, auc, accuracy_score, confusion_matrix, recall_score, precision_score\n",
    "\n",
    "\n",
    "# 모델 예측 함수\n",
    "def predict(model, x):\n",
    "    predictions = model.predict(x)\n",
    "    return predictions\n",
    "\n",
    "# ROC 커브 그리기\n",
    "def plot_roc_curve(y_true, y_score):\n",
    "    fpr, tpr, thresholds = roc_curve(y_true, y_score)\n",
    "    roc_auc = auc(fpr, tpr)\n",
    "\n",
    "    plt.figure(figsize=(7, 5))\n",
    "    plt.plot(fpr, tpr, color='darkorange', lw=2, label=f'ROC curve (AUC = {roc_auc:.2f})')\n",
    "    plt.plot([0, 1], [0, 1], color='navy', lw=2, linestyle='--')\n",
    "    plt.xlim([0.0, 1.0])\n",
    "    plt.ylim([0.0, 1.05])\n",
    "    plt.xlabel('False Positive Rate')\n",
    "    plt.ylabel('True Positive Rate')\n",
    "    plt.title('Receiver Operating Characteristic')\n",
    "    plt.legend(loc=\"lower right\")\n",
    "    plt.show()\n",
    "\n",
    "\n",
    "# 모델 검증 및 ROC 커브 그리기\n",
    "def validate_model(model, x_val, y_val):\n",
    "    # 모델 예측\n",
    "    y_pred = predict(model, x_val)\n",
    "\n",
    "    # 혼동 행렬 계산\n",
    "    cm = confusion_matrix(y_val, y_pred)\n",
    "\n",
    "    # 정확도 계산\n",
    "    accuracy = accuracy_score(y_val, y_pred)\n",
    "\n",
    "    # 정밀도 계산\n",
    "    precision = precision_score(y_val, y_pred,  average='weighted')\n",
    "    # 재현율 계산\n",
    "    recall = recall_score(y_val, y_pred, average='weighted')\n",
    "\n",
    "    # 정밀도와 정확도와 재현율 출력\n",
    "    \n",
    "    print(f'Accuracy: {accuracy:.4f}')\n",
    "    print(f'precision: {precision:.4f}')\n",
    "    print(f'Recall: {recall:.4f}')\n",
    "    \n",
    "    # 혼동 행렬 시각화\n",
    "    plt.figure(figsize=(7, 5))\n",
    "    sns.heatmap(cm, annot=True, fmt='d', cmap='Blues')\n",
    "    plt.xlabel('Predicted labels(0:ham,1:spam,2:ad)')\n",
    "    plt.ylabel('True labels')\n",
    "    \n",
    "    \n",
    "    plt.title('Confusion Matrix')\n",
    "    plt.show()\n",
    "\n",
    "    \n",
    "    # ROC 커브 그리기\n",
    "    #plot_roc_curve(y_val, y_pred)\n",
    "\n",
    "# 모델 검증 실행\n",
    "validate_model(model, X_test, y_test)\n"
   ]
  }
 ],
 "metadata": {
  "kernelspec": {
   "display_name": "env",
   "language": "python",
   "name": "python3"
  },
  "language_info": {
   "codemirror_mode": {
    "name": "ipython",
    "version": 3
   },
   "file_extension": ".py",
   "mimetype": "text/x-python",
   "name": "python",
   "nbconvert_exporter": "python",
   "pygments_lexer": "ipython3",
   "version": "3.9.13"
  },
  "orig_nbformat": 4
 },
 "nbformat": 4,
 "nbformat_minor": 2
}
