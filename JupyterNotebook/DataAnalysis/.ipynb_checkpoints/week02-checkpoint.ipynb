{
 "cells": [
  {
   "cell_type": "code",
   "execution_count": 1,
   "id": "2fa679e3",
   "metadata": {},
   "outputs": [
    {
     "data": {
      "text/plain": [
       "'1.4.4'"
      ]
     },
     "execution_count": 1,
     "metadata": {},
     "output_type": "execute_result"
    }
   ],
   "source": [
    "import pandas as pd\n",
    "#1주차는 이론수업\n",
    "pd .__version__"
   ]
  },
  {
   "cell_type": "code",
   "execution_count": 3,
   "id": "5c0a0c7f",
   "metadata": {},
   "outputs": [
    {
     "ename": "SyntaxError",
     "evalue": "closing parenthesis ']' does not match opening parenthesis '(' (1651957491.py, line 4)",
     "output_type": "error",
     "traceback": [
      "\u001b[1;36m  File \u001b[1;32m\"C:\\Users\\우승우\\AppData\\Local\\Temp\\ipykernel_1104\\1651957491.py\"\u001b[1;36m, line \u001b[1;32m4\u001b[0m\n\u001b[1;33m    df = pd.DataFrame(exam_data, index=]'서준')\u001b[0m\n\u001b[1;37m                                       ^\u001b[0m\n\u001b[1;31mSyntaxError\u001b[0m\u001b[1;31m:\u001b[0m closing parenthesis ']' does not match opening parenthesis '('\n"
     ]
    }
   ],
   "source": [
    "#pandas로 series 형태 dataframe 형태로 변경 가능\n",
    "#list도 series로 변경 \n",
    "sr = pd.Series([4,2,4,2])\n",
    "\n",
    "sr\n",
    "\n",
    "#ioc 로 인덱스 이름으로 값 불러오기\n",
    "#lioc로 인덱스 번호로 값불러오기"
   ]
  }
 ],
 "metadata": {
  "kernelspec": {
   "display_name": "Python 3 (ipykernel)",
   "language": "python",
   "name": "python3"
  },
  "language_info": {
   "codemirror_mode": {
    "name": "ipython",
    "version": 3
   },
   "file_extension": ".py",
   "mimetype": "text/x-python",
   "name": "python",
   "nbconvert_exporter": "python",
   "pygments_lexer": "ipython3",
   "version": "3.9.13"
  }
 },
 "nbformat": 4,
 "nbformat_minor": 5
}
