{
 "cells": [
  {
   "cell_type": "code",
   "execution_count": 1,
   "metadata": {},
   "outputs": [],
   "source": [
    "import numpy as np\n",
    "import pandas as pd"
   ]
  },
  {
   "cell_type": "code",
   "execution_count": 2,
   "metadata": {},
   "outputs": [
    {
     "name": "stdout",
     "output_type": "stream",
     "text": [
      "[1 4 2 5]\n",
      "[1. 4. 2. 5.] float64\n",
      "[1 4 2 5] int32\n"
     ]
    }
   ],
   "source": [
    "array_int = np.array([1,4,2,5])\n",
    "print(array_int)\n",
    "\n",
    "#astype으로 형변환 가능\n",
    "array_float = array_int.astype('float64')\n",
    "print(array_float, array_float.dtype)\n",
    "\n",
    "array_int1 = array_int.astype('int32')\n",
    "print(array_int1,array_int1.dtype)"
   ]
  },
  {
   "cell_type": "code",
   "execution_count": 3,
   "metadata": {},
   "outputs": [
    {
     "name": "stdout",
     "output_type": "stream",
     "text": [
      "[ 0  1  2  3  4  5  6  7  8  9 10 11 12 13 14 15 16 17]\n",
      "int32\n",
      "(18,) \n",
      "\n",
      "[[0 0]\n",
      " [0 0]\n",
      " [0 0]]\n",
      "(3, 2)\n",
      "int32 \n",
      "\n",
      "[[1. 1.]\n",
      " [1. 1.]\n",
      " [1. 1.]]\n"
     ]
    }
   ],
   "source": [
    "#array 자동 생성\n",
    "s_array = np.arange(18)\n",
    "print(s_array)\n",
    "print(s_array.dtype)\n",
    "print(s_array.shape,\"\\n\")\n",
    "\n",
    "#r:3 c:2의 0을 만들어준다. \n",
    "zero_ar = np.zeros((3,2),dtype='int32')\n",
    "print(zero_ar)\n",
    "print(zero_ar.shape)\n",
    "print(zero_ar.dtype,\"\\n\")\n",
    "\n",
    "\n",
    "#1을 만들어준다. dtype의 default는 flaot\n",
    "one_ar = np.ones((3,2))\n",
    "print(one_ar)"
   ]
  },
  {
   "cell_type": "code",
   "execution_count": 4,
   "metadata": {},
   "outputs": [
    {
     "name": "stdout",
     "output_type": "stream",
     "text": [
      "[ 0  1  2  3  4  5  6  7  8  9 10 11 12 13 14 15 16 17]\n",
      "[[ 0  1  2]\n",
      " [ 3  4  5]\n",
      " [ 6  7  8]\n",
      " [ 9 10 11]\n",
      " [12 13 14]\n",
      " [15 16 17]]\n",
      "행렬: (6, 3) \n",
      "\n",
      "[[ 0  1]\n",
      " [ 2  3]\n",
      " [ 4  5]\n",
      " [ 6  7]\n",
      " [ 8  9]\n",
      " [10 11]\n",
      " [12 13]\n",
      " [14 15]\n",
      " [16 17]]\n",
      "행렬: (9, 2) \n",
      "\n"
     ]
    }
   ],
   "source": [
    "#reshape 차원변경가능 1차원 ar -> 2차원 ar\n",
    "\n",
    "print(s_array)\n",
    "\n",
    "\n",
    "\n",
    "s_array = s_array.reshape(6,3)\n",
    "\n",
    "print(s_array)\n",
    "print(\"행렬:\",s_array.shape,\"\\n\")\n",
    "\n",
    "s_array = s_array.reshape(9,-3)\n",
    "print(s_array)\n",
    "print(\"행렬:\",s_array.shape,\"\\n\")"
   ]
  },
  {
   "cell_type": "code",
   "execution_count": 5,
   "metadata": {},
   "outputs": [
    {
     "name": "stdout",
     "output_type": "stream",
     "text": [
      "[0, 1, 2, 3, 4, 5, 6, 7, 8, 9, 10, 11, 12, 13, 14, 15, 16, 17, 18, 19, 20, 21, 22, 23, 24, 25, 26] \n",
      "\n",
      "[[[ 0  1  2]\n",
      "  [ 3  4  5]\n",
      "  [ 6  7  8]]\n",
      "\n",
      " [[ 9 10 11]\n",
      "  [12 13 14]\n",
      "  [15 16 17]]\n",
      "\n",
      " [[18 19 20]\n",
      "  [21 22 23]\n",
      "  [24 25 26]]] \n",
      "\n",
      "[[[0, 1, 2], [3, 4, 5], [6, 7, 8]], [[9, 10, 11], [12, 13, 14], [15, 16, 17]], [[18, 19, 20], [21, 22, 23], [24, 25, 26]]]\n",
      "[[ 0]\n",
      " [ 1]\n",
      " [ 2]\n",
      " [ 3]\n",
      " [ 4]\n",
      " [ 5]\n",
      " [ 6]\n",
      " [ 7]\n",
      " [ 8]\n",
      " [ 9]\n",
      " [10]\n",
      " [11]\n",
      " [12]\n",
      " [13]\n",
      " [14]\n",
      " [15]\n",
      " [16]\n",
      " [17]\n",
      " [18]\n",
      " [19]\n",
      " [20]\n",
      " [21]\n",
      " [22]\n",
      " [23]\n",
      " [24]\n",
      " [25]\n",
      " [26]]\n"
     ]
    }
   ],
   "source": [
    "ar3d = np.arange(27)\n",
    "#list형태로 print\n",
    "print(ar3d.tolist(),\"\\n\")\n",
    "\n",
    "\n",
    "ar3d = ar3d.reshape(3,3,3)\n",
    "print(ar3d,\"\\n\")\n",
    "print(ar3d.tolist())\n",
    "\n",
    "ar2d =ar3d.reshape(-1,1)\n",
    "print(ar2d)"
   ]
  },
  {
   "cell_type": "code",
   "execution_count": 6,
   "metadata": {},
   "outputs": [
    {
     "name": "stdout",
     "output_type": "stream",
     "text": [
      "[2 3 4 5 6 7 8 9]\n",
      "4\n",
      "9\n",
      "8\n",
      "120\n",
      "[[ 0  1  2]\n",
      " [ 3  4  5]\n",
      " [ 6  7  8]\n",
      " [ 9 10 11]\n",
      " [12 13 14]\n",
      " [15 16 17]]\n",
      "[[ 5]\n",
      " [ 8]\n",
      " [11]]\n",
      "[3 4]\n",
      "[10 11 12 13 14 15 16 17]\n"
     ]
    }
   ],
   "source": [
    "#indexing\n",
    "#arange의 값을 변경가능\n",
    "\n",
    "indexingarr = np.arange(start=2,stop=10)\n",
    "val = indexingarr[2]\n",
    "\n",
    "print(indexingarr)\n",
    "print(val)\n",
    "#맨 뒷값 출력\n",
    "print(indexingarr[-1])\n",
    "#맨 뒤에서 하나 앞\n",
    "print(indexingarr[-2])\n",
    "\n",
    "indexingarr[-1] = 120\n",
    "print(indexingarr[-1])\n",
    "\n",
    "#slicing\n",
    "\n",
    "s_array = s_array.reshape(6,3)\n",
    "print(s_array)\n",
    "\n",
    "#indexing 2dimention\n",
    "print(s_array[1:4,2:3])\n",
    "\n",
    "#fancy indexing\n",
    "print(s_array[1,[0,1]])\n",
    "\n",
    "#Boolean indexing\n",
    "print(s_array[s_array > 9])"
   ]
  },
  {
   "cell_type": "code",
   "execution_count": 7,
   "metadata": {},
   "outputs": [],
   "source": [
    "score_array = np.array([ 87, 94, 97, 86, 97, 79, 98, 86, 91, 94, 91, 96, 87, 96, 82, 89, 97, 88, 78, 88, 94, 83, 94, 81, 94, 89, 92, 84, 99, 93, 88, 97, 89])\n",
    "\n"
   ]
  },
  {
   "cell_type": "code",
   "execution_count": 8,
   "metadata": {},
   "outputs": [
    {
     "name": "stdout",
     "output_type": "stream",
     "text": [
      "[[5 8]\n",
      " [6 9]]\n",
      "행: 3  열: 4\n",
      "차원의 개수: 2\n"
     ]
    }
   ],
   "source": [
    "array1 = np.array([[1,4,7,10],\n",
    "                  [2,5,8,11],\n",
    "                  [3,6,9,12]])\n",
    "\n",
    "print(array1[1:3,1:3])\n",
    "\n",
    "row = len(array1)\n",
    "col = len(array1[0])\n",
    "print(\"행:\",row,\" 열:\",col)\n",
    "print(\"차원의 개수:\",array1.ndim)\n",
    "\n",
    "\n"
   ]
  }
 ],
 "metadata": {
  "kernelspec": {
   "display_name": "Python 3 (ipykernel)",
   "language": "python",
   "name": "python3"
  },
  "language_info": {
   "codemirror_mode": {
    "name": "ipython",
    "version": 3
   },
   "file_extension": ".py",
   "mimetype": "text/x-python",
   "name": "python",
   "nbconvert_exporter": "python",
   "pygments_lexer": "ipython3",
   "version": "3.9.13"
  }
 },
 "nbformat": 4,
 "nbformat_minor": 2
}
