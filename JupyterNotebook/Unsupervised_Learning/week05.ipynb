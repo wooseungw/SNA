{
 "cells": [
  {
   "cell_type": "code",
   "execution_count": 1,
   "metadata": {},
   "outputs": [],
   "source": [
    "import pandas as pd\n",
    "from sklearn.datasets import load_iris\n",
    "from sklearn.tree import DecisionTreeClassifier\n",
    "from sklearn.model_selection import train_test_split"
   ]
  },
  {
   "attachments": {},
   "cell_type": "markdown",
   "metadata": {},
   "source": [
    "과제 답안 제출: (1), (3), (5), (7), (9), (11), (12), (14)\n",
    "Part 1: 개념 확인 문제\n",
    "\n",
    "(1) 머신러닝은 데이터를 무엇으로 학습하는가?\n",
    "\n",
    "a:모델을 가지고 학습한다.\n",
    "\n",
    "(3) 피처란 무엇인가? 각자 자유롭게 설명하시오.\n",
    "\n",
    "a:데이터가 가진 특징을 말한다. 붓꽃의 경우에는 꽃잎의 크기와 색 등의 정보들이 피처가 될 수있다.\n",
    "\n",
    "\n",
    "(5) 분류와 회귀의 차이는?\n",
    "a:분류는 연속적이지않은 값, 회귀는 연속적인 값\n",
    "\n",
    "\n",
    "\n",
    "(7) 클래스, 객체, 메서드, 멤버변수는 무엇인가?\n",
    "\n",
    "a:클래스는 메서드와 멤버변수의 집합, 객체는 클래스 하나,메서드는 클래스안의 자료를 조작할 수 있는 함수, 멤버변수는 클래스에 있는 변수를 말한다.\n",
    "\n",
    "\n",
    "(9) sklearn에서 데이터 세트를 제공하는 모듈명(名)은?\n",
    "\n",
    "a:datasets\n",
    "\n",
    "\n",
    "(11) load_iris( )의 target값의 자료형(type)은 무엇인가?\n",
    "\n",
    "a:numpy.ndarray"
   ]
  },
  {
   "cell_type": "code",
   "execution_count": 2,
   "metadata": {},
   "outputs": [],
   "source": [
    "#(12) PPT의 전형적인 머신러닝 분류 프로그램을 (카피하지 말고) 타이핑하고 실행시키시오.\n",
    "\n",
    "from sklearn.datasets import load_iris\n",
    "from sklearn.tree import DecisionTreeClassifier\n",
    "from sklearn.model_selection import train_test_split"
   ]
  },
  {
   "cell_type": "code",
   "execution_count": 3,
   "metadata": {},
   "outputs": [
    {
     "name": "stdout",
     "output_type": "stream",
     "text": [
      "<class 'numpy.ndarray'>\n"
     ]
    }
   ],
   "source": [
    "#(13) sklearn.metric의 accuracy_score 함수를 사용하지 말고, 이와 동일한 입력과 출력을 갖는 my_accuracy_score 파이썬 함수를 각자 작성하시오.\n",
    "import pandas as pd\n",
    "\n",
    "iris = load_iris()\n",
    "iris_data = iris.data\n",
    "\n",
    "iris_label = iris.target\n",
    "print(type(iris_label))\n",
    "\n",
    "iris_df = pd.DataFrame(data=iris,columns=iris.feature_names)\n",
    "iris['lables'] = iris.target\n"
   ]
  },
  {
   "cell_type": "code",
   "execution_count": 4,
   "metadata": {},
   "outputs": [],
   "source": [
    "X_train, X_test, y_train, y_test = train_test_split(iris_data, iris_label, test_size=0.2, random_state=11)\n",
    "\n",
    "dt_clf = DecisionTreeClassifier(random_state=11)\n",
    "\n",
    "dt_clf.fit(X_train, y_train)\n",
    "\n",
    "pred = dt_clf.predict(X_test)"
   ]
  },
  {
   "cell_type": "code",
   "execution_count": 8,
   "metadata": {},
   "outputs": [
    {
     "name": "stdout",
     "output_type": "stream",
     "text": [
      "정확도: 0.9333333333333333\n"
     ]
    }
   ],
   "source": [
    "from sklearn.metrics import accuracy_score\n",
    "print(\"정확도:\",accuracy_score(y_test,pred))"
   ]
  },
  {
   "cell_type": "code",
   "execution_count": 10,
   "metadata": {},
   "outputs": [
    {
     "name": "stdout",
     "output_type": "stream",
     "text": [
      "정확도: 0.9333333333333333\n"
     ]
    }
   ],
   "source": [
    "#(13) sklearn.metric의 accuracy_score 함수를 사용하지 말고, 이와 동일한 입력과 출력을 갖는 my_accuracy_score 파이썬 함수를 각자 작성하시오.\n",
    "\n",
    "def my_accuracy_score(labels,pred):\n",
    "    r  = len(pred)\n",
    "    count =0\n",
    "    for i in range(r):\n",
    "        if labels[i] == pred[i]:\n",
    "            count += 1\n",
    "            \n",
    "    return count/r\n",
    "\n",
    "print(\"정확도:\",my_accuracy_score(y_test,pred))"
   ]
  },
  {
   "cell_type": "code",
   "execution_count": 3,
   "metadata": {},
   "outputs": [
    {
     "name": "stdout",
     "output_type": "stream",
     "text": [
      "정확도: 0.9736842105263158\n",
      "정확도: 0.9473684210526315\n",
      "정확도: 1.0\n",
      "정확도: 0.9210526315789473\n",
      "정확도: 0.9473684210526315\n",
      "정확도: 1.0\n",
      "정확도: 0.8947368421052632\n",
      "정확도: 0.8947368421052632\n",
      "정확도: 0.9736842105263158\n",
      "정확도: 0.9736842105263158\n",
      "정확도: 0.9736842105263158\n",
      "정확도: 0.9210526315789473\n",
      "정확도: 0.9736842105263158\n",
      "정확도: 0.9736842105263158\n",
      "정확도: 0.9210526315789473\n",
      "정확도: 0.9210526315789473\n",
      "정확도: 0.9736842105263158\n",
      "정확도: 0.9210526315789473\n",
      "정확도: 0.9210526315789473\n",
      "정확도: 0.9473684210526315\n",
      "정확도: 0.9210526315789473\n",
      "정확도: 0.9473684210526315\n",
      "정확도: 1.0\n",
      "정확도: 0.9736842105263158\n",
      "정확도: 0.9210526315789473\n",
      "정확도: 0.9473684210526315\n",
      "정확도: 0.9210526315789473\n",
      "정확도: 0.9210526315789473\n",
      "정확도: 0.9210526315789473\n",
      "정확도: 1.0\n",
      "정확도: 1.0\n",
      "정확도: 0.868421052631579\n",
      "정확도: 0.9210526315789473\n",
      "정확도: 0.9736842105263158\n",
      "정확도: 0.9473684210526315\n",
      "정확도: 0.8947368421052632\n",
      "정확도: 0.9473684210526315\n",
      "정확도: 0.8947368421052632\n",
      "정확도: 0.9736842105263158\n",
      "정확도: 0.9736842105263158\n",
      "정확도: 0.9736842105263158\n",
      "정확도: 0.9736842105263158\n",
      "정확도: 0.8947368421052632\n",
      "정확도: 0.9473684210526315\n",
      "정확도: 1.0\n",
      "정확도: 0.9210526315789473\n",
      "정확도: 0.9736842105263158\n",
      "정확도: 0.9736842105263158\n",
      "정확도: 0.9473684210526315\n",
      "정확도: 0.9736842105263158\n",
      "정확도: 0.9210526315789473\n",
      "정확도: 0.9210526315789473\n",
      "정확도: 0.9473684210526315\n",
      "정확도: 1.0\n",
      "정확도: 1.0\n",
      "정확도: 0.9473684210526315\n",
      "정확도: 0.9473684210526315\n",
      "정확도: 0.9473684210526315\n",
      "정확도: 0.9736842105263158\n",
      "정확도: 0.9736842105263158\n",
      "정확도: 0.9473684210526315\n",
      "정확도: 0.8947368421052632\n",
      "정확도: 0.8947368421052632\n",
      "정확도: 0.9473684210526315\n",
      "정확도: 0.9736842105263158\n",
      "정확도: 0.9473684210526315\n",
      "정확도: 0.8947368421052632\n",
      "정확도: 0.9210526315789473\n",
      "정확도: 0.9473684210526315\n",
      "정확도: 0.9736842105263158\n",
      "정확도: 0.9736842105263158\n",
      "정확도: 0.9210526315789473\n",
      "정확도: 0.9736842105263158\n",
      "정확도: 0.9736842105263158\n",
      "정확도: 0.8947368421052632\n",
      "정확도: 0.9473684210526315\n",
      "정확도: 0.9736842105263158\n",
      "정확도: 0.9736842105263158\n",
      "정확도: 0.9736842105263158\n",
      "정확도: 0.9473684210526315\n",
      "정확도: 0.8947368421052632\n",
      "정확도: 0.9736842105263158\n",
      "정확도: 0.9473684210526315\n",
      "정확도: 0.9736842105263158\n",
      "정확도: 1.0\n",
      "정확도: 0.9473684210526315\n",
      "정확도: 0.9473684210526315\n",
      "정확도: 0.9210526315789473\n",
      "정확도: 0.9210526315789473\n",
      "정확도: 1.0\n",
      "정확도: 0.9736842105263158\n",
      "정확도: 0.9736842105263158\n",
      "정확도: 1.0\n",
      "정확도: 0.9210526315789473\n",
      "정확도: 0.9473684210526315\n",
      "정확도: 0.8947368421052632\n",
      "정확도: 0.9736842105263158\n",
      "정확도: 0.8947368421052632\n",
      "정확도: 0.9736842105263158\n",
      "정확도: 1.0\n"
     ]
    }
   ],
   "source": [
    "#(14) train_test_split이 랜덤하게 데이터를 나누기(split) 때문에 수행할 때 마다 다르게 데이터를 나눕니다. 알고리즘의 정확도가 데이터가 어떻게 나누어지느냐에 따라 달라집니다. 다음 코드를 이해하고 accuracy 리스트의 평균과 표준편차를 출력하는 코드를 아래에 추가하시오\n",
    "\n",
    "from sklearn.datasets import load_iris\n",
    "from sklearn.tree import DecisionTreeClassifier\n",
    "from sklearn.model_selection import train_test_split\n",
    "from sklearn.metrics import accuracy_score\n",
    "iris = load_iris()\n",
    "iris_data = iris.data\n",
    "iris_label = iris.target\n",
    "dt_clf = DecisionTreeClassifier(random_state=11)\n",
    "nreps = 100 # number of repetitions 반복 횟수\n",
    "accuracy=[0]*nreps # 초기화\n",
    "for k in range(nreps):\n",
    " X_train, X_test, y_train, y_test = train_test_split(iris_data, iris_label)\n",
    " dt_clf.fit(X_train, y_train)\n",
    " pred = dt_clf.predict(X_test)\n",
    " accuracy[k] = round(accuracy_score(y_test,pred), 4)\n",
    " \n",
    " print(\"정확도:\",accuracy_score(y_test,pred))"
   ]
  }
 ],
 "metadata": {
  "kernelspec": {
   "display_name": "base",
   "language": "python",
   "name": "python3"
  },
  "language_info": {
   "codemirror_mode": {
    "name": "ipython",
    "version": 3
   },
   "file_extension": ".py",
   "mimetype": "text/x-python",
   "name": "python",
   "nbconvert_exporter": "python",
   "pygments_lexer": "ipython3",
   "version": "3.9.13"
  },
  "orig_nbformat": 4
 },
 "nbformat": 4,
 "nbformat_minor": 2
}
