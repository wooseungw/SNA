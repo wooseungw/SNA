{
 "cells": [
  {
   "cell_type": "markdown",
   "metadata": {},
   "source": [
    "단순 자료구조: 정수, 실수, 문자, 문자열\n",
    "\n",
    "선형 자료구조: 선형 리스트, 연결 리스트, 스택, 큐\n",
    "\n",
    "비선형 자료구조: 트리, 그래프\n",
    "\n",
    "파일 자료구조: 논리적인 순서로 디스크에 저장\n",
    "\n",
    "알고리즘 성능표기 $O(1),\\ O(log n) ,\\ O(n), O(n log n),...$ \n",
    "$O(1)$이 가장 좋은 성능 = 상수시간\n",
    "$O(log n)$이 두번째로 좋은 성능 = 로그시간\n",
    "\n",
    "알고리즘 표현법: 일반 언어, 순서도, 의사코드, 프로그래밍언어"
   ]
  },
  {
   "cell_type": "markdown",
   "metadata": {},
   "source": [
    "파이썬 데이터 형태\n",
    "\n",
    "데이터형: str, int, float, bool\n",
    "\n",
    "프린트문 서식: %d, %f, %s, %c\n",
    "\n",
    "파이썬에서 제공하는 산술 연산자: +, -, *, /, //, %, **\n",
    "\n",
    "파이썬에서 제공하는 비교 연산자: ==, !=, >, <, >=, <=\n",
    "\n",
    "파이썬에서 제공하는 논리 연산자: and, or, not\n",
    "\n",
    "\n",
    "리스트 조작 함수: append(), insert(), remove(), pop(), index(), count(), sort(), reverse()\n",
    "\n",
    "튜플 조작함수: index(), count()\n",
    "\n",
    "index(): 튜플에서 특정 값의 인덱스를 찾아줌\n",
    "\n",
    "count(): 튜플에서 특정 값의 개수를 찾아줌\n",
    "\n",
    "\n",
    "집합 조작함수: add(), update(), remove(), discard(), clear()\n",
    "\n",
    "add(): 집합에 값 추가\n",
    "\n",
    "update(): 집합에 여러 값을 추가\n",
    "\n",
    "remove(): 집합에서 특정 값 제거\n",
    "\n",
    "discard(): 집합에서 특정 값 제거\n",
    "\n",
    "clear(): 집합의 모든 값을 제거\n",
    "\n",
    "문자열"
   ]
  },
  {
   "cell_type": "markdown",
   "metadata": {},
   "source": [
    "선형리스트: 데이터를 일정한 순서로 나열\n",
    "\n",
    "데이터 삽입:"
   ]
  },
  {
   "cell_type": "code",
   "execution_count": null,
   "metadata": {},
   "outputs": [],
   "source": [
    "list = [1, 2, 3, 4]\n",
    "list.append(5)"
   ]
  },
  {
   "cell_type": "markdown",
   "metadata": {},
   "source": [
    "\n",
    "데이터 중간 삽입:\n"
   ]
  },
  {
   "cell_type": "code",
   "execution_count": null,
   "metadata": {},
   "outputs": [],
   "source": [
    "list.append(None)\n",
    "list[6] = list[5]\n",
    "list[5] = 6"
   ]
  },
  {
   "cell_type": "markdown",
   "metadata": {},
   "source": [
    "데이터 삭제:\n"
   ]
  },
  {
   "cell_type": "code",
   "execution_count": null,
   "metadata": {},
   "outputs": [],
   "source": [
    "list[4] = None\n",
    "list[4] = list[5]\n",
    "list[5] = list[6]\n",
    "list[6] = None\n",
    "list.pop()"
   ]
  },
  {
   "cell_type": "markdown",
   "metadata": {},
   "source": [
    "선형 리스트 일반구현"
   ]
  },
  {
   "cell_type": "code",
   "execution_count": null,
   "metadata": {},
   "outputs": [],
   "source": [
    "list = []\n",
    "\n",
    "def add_data(data):\n",
    "    list.append(None)\n",
    "    length = len(list)\n",
    "    list[length - 1] = data"
   ]
  },
  {
   "cell_type": "markdown",
   "metadata": {},
   "source": [
    "데이터 삽입"
   ]
  },
  {
   "cell_type": "code",
   "execution_count": null,
   "metadata": {},
   "outputs": [],
   "source": [
    "list = [1, 2, 3, 4]\n",
    "\n",
    "def insert_data(data, index):\n",
    "    list.append(None)\n",
    "    length = len(list)\n",
    "    for i in range(length - 1, index, -1):\n",
    "        list[i] = list[i - 1]\n",
    "    list[index] = data"
   ]
  },
  {
   "cell_type": "markdown",
   "metadata": {},
   "source": [
    "데이터 삭제"
   ]
  },
  {
   "cell_type": "code",
   "execution_count": null,
   "metadata": {},
   "outputs": [],
   "source": [
    "def delete_data(index):\n",
    "    length = len(list)\n",
    "    list[index] = None\n",
    "    \n",
    "    for i in range(index+1, length):\n",
    "        list[i-1] = list[i]\n",
    "        list[i] = None\n",
    "        \n",
    "    del(list[length-1])"
   ]
  },
  {
   "cell_type": "markdown",
   "metadata": {},
   "source": [
    "선형 리스트를 활용해 다항식 계산 프로그램을 제작가능함"
   ]
  },
  {
   "cell_type": "markdown",
   "metadata": {},
   "source": [
    "이진 트리\n",
    "\n",
    "이진트리: 노드가 최대 두개의 자식노드를 가지는 트리\n",
    "\n",
    "$왼쪽링크|데이터|오른쪽링크 $ 순서로 구성\n",
    "\n",
    "이진트리의 종류: 포화이진트리, 완전이진트리, 편향이진트리\n",
    "\n",
    "포화 이진트리: 모든 레벨이 꽉 차있는 이진트리\n",
    "\n",
    "완전 이진트리: 마지막 레벨을 제외하고 모든 레벨이 꽉 차있는 이진트리\n",
    "\n",
    "편향 이진트리: 한쪽으로만 자식노드를 가지는 이진트리"
   ]
  },
  {
   "cell_type": "code",
   "execution_count": 3,
   "metadata": {},
   "outputs": [],
   "source": [
    "class TreeNode():\n",
    "    def __init__(self, data):\n",
    "        self.data = data\n",
    "        self.left = None\n",
    "        self.right = None"
   ]
  },
  {
   "cell_type": "markdown",
   "metadata": {},
   "source": [
    "트리 순회\n",
    "\n",
    "전위 순회: 루트노드를 먼저 방문한 후 왼쪽 자식노드, 오른쪽 자식노드를 방문\n",
    "\n",
    "현재->왼쪽->오른쪽\n",
    "\n",
    "트리가 계속 이어진경우 현재 노드를 출력하고 왼쪽으로 이동을 반복, 왼쪽으로 이동이 불가능하면 오른쪽으로 이동 데이터 처리\n",
    "\n",
    "중위 순회: 왼쪽 자식노드를 방문한 후 루트노드, 오른쪽 자식노드를 방문\n",
    "\n",
    "왼쪽 끝으로 가서 노드 출력하고 부모노드로 이동, 부모노드 출력하고 오른쪽으로 이동\n",
    "또 왼쪽으로 가서 노드 출력하고 부모노드로 이동, 부모노드 출력하고 오른쪽으로 이동\n",
    "\n",
    "후위 순회는 왼쪽 자식노드를 방문한 후 오른쪽 자식노드, 루트노드를 방문\n",
    "\n",
    "왼쪽끝으로 갔다가 오른쪽 갔다가 현재 데이터 처리 또 왼쪽 갔다가 오른쪽 갔다고 데이터 처리"
   ]
  },
  {
   "cell_type": "markdown",
   "metadata": {},
   "source": [
    "이진트리 탐색\n",
    "\n",
    "이진 탐색 트리 특징:\n",
    "왼쪽 자식노드는 부모노드보다 작은 값, 오른쪽 자식노드는 부모노드보다 큰 값\n",
    "노드 값은 중복되지 않음\n"
   ]
  },
  {
   "cell_type": "code",
   "execution_count": 5,
   "metadata": {},
   "outputs": [
    {
     "name": "stdout",
     "output_type": "stream",
     "text": [
      "이진 탐색 트리 구성 완료!\n"
     ]
    }
   ],
   "source": [
    "## 함수 선언 부분 ##\n",
    "class TreeNode() :\n",
    "\tdef __init__ (self) :\n",
    "\t\tself.left = None\n",
    "\t\tself.data = None\n",
    "\t\tself.right = None\n",
    "\n",
    "## 전역 변수 선언 부분 ##\n",
    "memory = []\n",
    "root = None\n",
    "nameAry = ['블랙핑크', '레드벨벳', '마마무', '에이핑크',  '걸스데이', '트와이스' ]\n",
    "\n",
    "## 메인 코드 부분 ##\n",
    "node = TreeNode()\n",
    "node.data = nameAry[0]\n",
    "root = node\n",
    "memory.append(node)\n",
    "\n",
    "# 이진 탐색 트리 구성 두번째 값부터 끝까지\n",
    "for name in nameAry[1:] :\n",
    "\n",
    "\tnode = TreeNode()\n",
    "\tnode.data = name\n",
    "\n",
    "\tcurrent = root\n",
    "    # 현재 노드가 None이 아닐 때까지 반복\n",
    "\twhile True :\n",
    "        # 현재 노드의 데이터와 새로운 노드의 데이터를 비교\n",
    "\t\tif name < current.data :\n",
    "\t\t\tif current.left == None :\n",
    "\t\t\t\tcurrent.left = node\n",
    "\t\t\t\tbreak\n",
    "\t\t\tcurrent = current.left\n",
    "\t\telse :\n",
    "\t\t\tif current.right == None :\n",
    "\t\t\t\tcurrent.right = node\n",
    "\t\t\t\tbreak\n",
    "\t\t\tcurrent = current.right\n",
    "\n",
    "\tmemory.append(node)\n",
    "\n",
    "print(\"이진 탐색 트리 구성 완료!\")\n"
   ]
  },
  {
   "cell_type": "markdown",
   "metadata": {},
   "source": [
    "그래프\n",
    "\n",
    "트리와 달리 노드간에 순서가 없음 시작점이 0임\n",
    "\n",
    "무방향 그래프: 간선에 방향이 없는 그래프\n",
    "\n",
    "$ V(G) =${$ {0,1,2,3,4,5,6,7,8,9} $}\n",
    "\n",
    "$ E(G) =${$ {(0,1),(0,2),(0,3),(1,4),(1,5),(2,6)} $}\n",
    "\n",
    "이런식으로 표기\n",
    "\n",
    "깊이 우선 탐색: 스택을 이용해 구현되며, 루트노드에서 시작해 다음 분기로 넘어가기 전에 해당 분기를 완벽하게 탐색, 깊게 먼저 들어간 다음 탐색되지 않은 쪽으로 탐색\n",
    "\n",
    "너비 우선 탐색: 큐를 이용해 구현되며, 루트노드에서 시작해 인접한 노드를 먼저 탐색, 더 이상 탐색할 노드가 없을 때까지 탐색\n",
    "\n",
    "인접행렬로 보면 0과 1로 표현되어 DFS와 BFS를 구현할 수 있음\n",
    "\n",
    "인접행렬에서 시작[x][y] = 1로 표현되어 있을 때 x,y를 방문했는지 확인하고 방문하지 않았다면 방문했다고 표시하고 다음 노드로 이동 그 다음은 [y][x_1]이런식으로 이동함"
   ]
  },
  {
   "cell_type": "markdown",
   "metadata": {},
   "source": [
    "정렬\n",
    "선택정렬\n",
    "    선택 정렬은 데이터를 탐색하며 가장 작은 값부터 구성\n",
    "\n",
    "삽입정렬\n",
    "    기존 데이터중에서 자신의 위치르 찾아 데이터 삽입\n",
    "    먼저 제일 앞에 잇는 값을 삽입하고,\n",
    "    바로 앞에 있는 값과 비교하여 크면 바로 앞에 있는 값과 자리를 바꾸고, 작으면 그대로 둠\n",
    "버블정렬\n",
    "퀵 정렬\n"
   ]
  },
  {
   "cell_type": "code",
   "execution_count": null,
   "metadata": {},
   "outputs": [],
   "source": [
    "## 함수 선언 부분 ##\n",
    "def bubbleSort(ary) :\n",
    "\tn = len(ary)\n",
    "\tfor end in range(n-1, 0, -1) :\n",
    "\t\tchangeYN = False\n",
    "\t\tprint('#사이클-->', ary)\n",
    "\t\tfor cur in range(0, end) :\n",
    "\t\t\tif (ary[cur] > ary[cur+1]) :\n",
    "\t\t\t\tary[cur], ary[cur+1] = ary[cur+1], ary[cur]\n",
    "\t\t\t\tchangeYN = True\n",
    "\t\tif not changeYN :\n",
    "\t\t\tbreak\n",
    "\treturn ary\n",
    "\n",
    "## 전역 변수 선언 부분 ##\n",
    "dataAry = [50, 105, 120, 188, 150, 162, 168, 177]\n",
    "\n",
    "## 메인 코드 부분 ##\n",
    "print('정렬 전 -->', dataAry)\n",
    "dataAry = bubbleSort(dataAry)\n",
    "print('정렬 후 -->', dataAry)\n"
   ]
  }
 ],
 "metadata": {
  "kernelspec": {
   "display_name": "transformer",
   "language": "python",
   "name": "python3"
  },
  "language_info": {
   "codemirror_mode": {
    "name": "ipython",
    "version": 3
   },
   "file_extension": ".py",
   "mimetype": "text/x-python",
   "name": "python",
   "nbconvert_exporter": "python",
   "pygments_lexer": "ipython3",
   "version": "3.12.2"
  }
 },
 "nbformat": 4,
 "nbformat_minor": 2
}
