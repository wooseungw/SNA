{
 "cells": [
  {
   "cell_type": "code",
   "execution_count": 1,
   "metadata": {},
   "outputs": [
    {
     "name": "stdout",
     "output_type": "stream",
     "text": [
      "0\n"
     ]
    }
   ],
   "source": [
    "print(202204083%3)\n",
    "#p272 콜센터 응답대기시간 계산하기 (나머지가 0)"
   ]
  },
  {
   "cell_type": "code",
   "execution_count": 3,
   "metadata": {},
   "outputs": [
    {
     "name": "stdout",
     "output_type": "stream",
     "text": [
      "귀하의 대기 예상시간은  0 분입니다.\n",
      "현재 대기 콜 -->  [None, None, None, None, None, None]\n",
      "\n",
      "귀하의 대기 예상시간은  9 분입니다.\n",
      "현재 대기 콜 -->  [None, ('사용', 9), None, None, None, None]\n",
      "\n",
      "귀하의 대기 예상시간은  12 분입니다.\n",
      "현재 대기 콜 -->  [None, ('사용', 9), ('고장', 3), None, None, None]\n",
      "\n",
      "귀하의 대기 예상시간은  16 분입니다.\n",
      "현재 대기 콜 -->  [None, ('사용', 9), ('고장', 3), ('환불', 4), None, None]\n",
      "\n",
      "귀하의 대기 예상시간은  20 분입니다.\n",
      "현재 대기 콜 -->  [None, ('사용', 9), ('고장', 3), ('환불', 4), ('환불', 4), None]\n",
      "\n",
      "최종 대기 콜 -->  [None, ('사용', 9), ('고장', 3), ('환불', 4), ('환불', 4), ('고장', 3)]\n",
      "프로그램 종료!\n"
     ]
    }
   ],
   "source": [
    "## 함수 선언 부분 ##\n",
    "def isQueueFull() :\n",
    "\tglobal SIZE, queue, front, rear\n",
    "\tif ( (rear + 1) % SIZE == front) :\n",
    "\t\treturn True\n",
    "\telse :\n",
    "\t\treturn False\n",
    "\n",
    "def isQueueEmpty() :\n",
    "\tglobal SIZE, queue, front, rear\n",
    "\tif (front == rear) :\n",
    "\t\treturn True\n",
    "\telse :\n",
    "\t\treturn False\n",
    "\n",
    "def enQueue(data) :\n",
    "\tglobal SIZE, queue, front, rear\n",
    "\tif (isQueueFull()) :\n",
    "\t\tprint(\"큐가 꽉 찼습니다.\")\n",
    "\t\treturn\n",
    "\trear = (rear + 1) % SIZE\n",
    "\tqueue[rear] = data\n",
    "\n",
    "def deQueue() :\n",
    "\tglobal SIZE, queue, front, rear\n",
    "\tif (isQueueEmpty()) :\n",
    "\t\tprint(\"큐가 비었습니다.\")\n",
    "\t\treturn None\n",
    "\tfront = (front + 1) % SIZE\n",
    "\tdata = queue[front]\n",
    "\tqueue[front] = None\n",
    "\treturn data\n",
    "\n",
    "def peek() :\n",
    "\tglobal SIZE, queue, front, rear\n",
    "\tif (isQueueEmpty()) :\n",
    "\t\tprint(\"큐가 비었습니다.\")\n",
    "\t\treturn None\n",
    "\treturn queue[(front + 1) % SIZE]\n",
    "\n",
    "def calcTime() :\n",
    "\tglobal SIZE, queue, front, rear\n",
    "\ttimeSum = 0\n",
    "\tfor i in range((front+1)% SIZE, (rear+1)%SIZE) :\n",
    "\t\ttimeSum += queue[i][1]\n",
    "\treturn timeSum\n",
    "\n",
    "## 전역 변수 선언 부분 ##\n",
    "SIZE = int(input(\"큐의 크기를 입력하세요 -->\"))\n",
    "queue = [ None for _ in range(SIZE) ]\n",
    "front = rear = 0\n",
    "num = 0\n",
    "while(num != 4):\n",
    "\tnum = int(input(\"1:콜입력, 2:대기열, 3:, 4:종료 -->\"))\n",
    "\tif num == 1:\n",
    "\t\tprint(\"귀하의 대기 예상시간은 \", calcTime(), \"분입니다.\")\n",
    "\telif num == 2:\n",
    "\t\tprint(\"현재 대기 콜 --> \", queue)\n",
    "\telif num == 3:\n",
    "\t\tcall = input(\"콜 내용을 입력하세요(사용,고장,환불) -->\")\n",
    "\t\ttime = int(input(\"콜 예상시간을 입력하세요(분) -->\"))\n",
    "\t\tenQueue((call, time))\n",
    "\t\tprint(\"현재 대기 콜 --> \", queue)\n",
    "\telif num == 4:\n",
    "\t\tbreak\n",
    "\telse:\n",
    "\t\tprint(\"잘못 입력하셨습니다. 다시 입력해주세요.\")\n",
    "    \n",
    "waitCall = [('사용', 9), ('고장', 3), ('환불', 4), ('환불', 4), ('고장', 3)]\n",
    "\n",
    "for call in waitCall :\n",
    "\tprint(\"귀하의 대기 예상시간은 \", calcTime(), \"분입니다.\")\n",
    "\tprint(\"현재 대기 콜 --> \", queue)\n",
    "\tenQueue(call)\n",
    "\tprint()\n",
    "\n",
    "print(\"최종 대기 콜 --> \", queue)\n",
    "\n",
    "print(\"프로그램 종료!\")\n",
    "\n"
   ]
  },
  {
   "cell_type": "markdown",
   "metadata": {},
   "source": [
    "몇분 뒤 대기 시간을 출력함"
   ]
  },
  {
   "cell_type": "code",
   "execution_count": null,
   "metadata": {},
   "outputs": [],
   "source": []
  }
 ],
 "metadata": {
  "kernelspec": {
   "display_name": "transformer",
   "language": "python",
   "name": "python3"
  },
  "language_info": {
   "codemirror_mode": {
    "name": "ipython",
    "version": 3
   },
   "file_extension": ".py",
   "mimetype": "text/x-python",
   "name": "python",
   "nbconvert_exporter": "python",
   "pygments_lexer": "ipython3",
   "version": "3.12.2"
  }
 },
 "nbformat": 4,
 "nbformat_minor": 2
}
