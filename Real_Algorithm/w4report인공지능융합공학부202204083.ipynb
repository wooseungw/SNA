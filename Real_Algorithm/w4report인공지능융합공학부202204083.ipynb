{
 "cells": [
  {
   "cell_type": "code",
   "execution_count": 90,
   "metadata": {},
   "outputs": [
    {
     "name": "stdout",
     "output_type": "stream",
     "text": [
      "11 65 11 41 -59 -42 0 \n",
      "양수 --> 4 \t 음수 --> 2\n",
      "-11 -65 -11 -41 59 42 0 \n"
     ]
    }
   ],
   "source": [
    "import random\n",
    "\n",
    "## 클래스와 함수 선언 부분 ##\n",
    "class Node() :\n",
    "\tdef __init__ (self) :\n",
    "\t\tself.data = None\n",
    "\t\tself.link = None\n",
    "\n",
    "def printNodes(start):\n",
    "\tcurrent = start\n",
    "\tif current.link == None :\n",
    "\t\treturn\n",
    "\tprint(current.data, end=' ')\n",
    "\twhile current.link != start:\n",
    "\t\tcurrent = current.link\n",
    "\t\tprint(current.data, end=' ')\n",
    "\tprint()\n",
    "\n",
    "def countPosNag():\n",
    "    global memory, head, current, pre\n",
    "    pos, nag = 0, 0\n",
    "    if head == None :\n",
    "        return False\n",
    "\n",
    "    current = head\n",
    "    while True:\n",
    "        if current.data >  0:\n",
    "            pos += 1\n",
    "            current.data = current.data *(-1)\n",
    "        elif current.data <  0:\n",
    "            current.data = current.data *(-1)\n",
    "            nag += 1\n",
    "        if current.link == head :\n",
    "            break\n",
    "        current = current.link\n",
    "\n",
    "    return pos, nag\n",
    "\n",
    "## 전역 변수 선언 부분 ##\n",
    "memory = []\n",
    "head, current, pre = None, None, None\n",
    "\n",
    "dataArray = []\n",
    "for _ in range(7) :\n",
    "    dataArray.append(random.randint(-100, 100))\n",
    "\n",
    "node = Node()\n",
    "node.data = dataArray[0]\n",
    "head = node\n",
    "node.link = head\n",
    "memory.append(node)\n",
    "\n",
    "for data in dataArray[1:] :\n",
    "    pre = node\n",
    "    node = Node()\n",
    "    node.data = data\n",
    "    pre.link = node\n",
    "    node.link = head\n",
    "    memory.append(node)\n",
    "\n",
    "printNodes(head)\n",
    "\n",
    "postive_num, negative_num = countPosNag()\n",
    "print('양수 -->', postive_num, '\\t', '음수 -->', negative_num)\n",
    "\n",
    "printNodes(head)\n"
   ]
  }
 ],
 "metadata": {
  "kernelspec": {
   "display_name": "Python 3",
   "language": "python",
   "name": "python3"
  },
  "language_info": {
   "codemirror_mode": {
    "name": "ipython",
    "version": 3
   },
   "file_extension": ".py",
   "mimetype": "text/x-python",
   "name": "python",
   "nbconvert_exporter": "python",
   "pygments_lexer": "ipython3",
   "version": "3.12.2"
  }
 },
 "nbformat": 4,
 "nbformat_minor": 2
}
