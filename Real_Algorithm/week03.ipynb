{
 "cells": [
  {
   "cell_type": "markdown",
   "metadata": {},
   "source": [
    "# 선형 리스트(list, array)\n",
    "\n",
    "### 개념\n",
    "\n",
    "- 순서가 있는 리스트\n",
    "- 순서의 개념이 중요함\n",
    "- 메모리에도 차례로 저장\n",
    "\n",
    "### 데이터 삽입\n",
    "\n",
    "1. 끝의 빈칸을 확보\n",
    "2. 삽입될 위치 뒤의 저장 정보를 한칸씩 미룬다.\n",
    "3. 삽입\n"
   ]
  },
  {
   "cell_type": "code",
   "execution_count": 5,
   "metadata": {},
   "outputs": [
    {
     "name": "stdout",
     "output_type": "stream",
     "text": [
      "['a', 'b', 'c', 'd', '삽입', 'e']\n"
     ]
    }
   ],
   "source": [
    "arr = ['a','b','c','d','e']\n",
    "arr.append(None)\n",
    "arr[5] = arr[4]\n",
    "arr[4] = \"삽입\"\n",
    "print(arr)\n"
   ]
  },
  {
   "cell_type": "markdown",
   "metadata": {},
   "source": [
    "\n",
    "### 데이터 삭제\n",
    "\n",
    "1. 하나를 지우고\n",
    "2. 지워진 바로 뒤부터 한칸씩 앞으로 당긴다\n"
   ]
  },
  {
   "cell_type": "code",
   "execution_count": 6,
   "metadata": {},
   "outputs": [
    {
     "name": "stdout",
     "output_type": "stream",
     "text": [
      "['a', 'b', 'c', 'd', 'e']\n"
     ]
    }
   ],
   "source": [
    "arr[4] = None\n",
    "arr[4] = arr[5]\n",
    "arr[5] = None\n",
    "del(arr[5])\n",
    "print(arr)"
   ]
  },
  {
   "cell_type": "markdown",
   "metadata": {},
   "source": [
    "### 구현"
   ]
  },
  {
   "cell_type": "code",
   "execution_count": 35,
   "metadata": {},
   "outputs": [
    {
     "name": "stdout",
     "output_type": "stream",
     "text": [
      "['a']\n",
      "['a', 'b']\n",
      "['a', 'b', 'c']\n",
      "['a', 'b', 'c', 'd']\n"
     ]
    }
   ],
   "source": [
    "arr = []\n",
    "arr.append(None)\n",
    "lenght = len(arr)\n",
    "arr[lenght-1]='a'\n",
    "print(arr)\n",
    "\n",
    "arr.append(None)\n",
    "lenght = len(arr)\n",
    "arr[lenght-1]='b'\n",
    "print(arr)\n",
    "\n",
    "def add_data(value):\n",
    "    arr.append(None)\n",
    "    lenght = len(arr)\n",
    "    arr[lenght-1] = value\n",
    "\n",
    "add_data('c')\n",
    "print(arr)\n",
    "add_data('d')\n",
    "print(arr)"
   ]
  },
  {
   "cell_type": "markdown",
   "metadata": {},
   "source": [
    "### 구현(삽입)"
   ]
  },
  {
   "cell_type": "code",
   "execution_count": 36,
   "metadata": {},
   "outputs": [
    {
     "name": "stdout",
     "output_type": "stream",
     "text": [
      "['a', '나', 'b', 'c', 'd']\n"
     ]
    }
   ],
   "source": [
    "def insert_data(loc,value):\n",
    "    arr.append(None)\n",
    "    for i in range(len(arr)-1,loc,-1):\n",
    "        arr[i] = arr[(i-1)]\n",
    "        arr[i-1] = None\n",
    "    arr[loc] = value\n",
    "\n",
    "insert_data(1,\"나\")\n",
    "print(arr)"
   ]
  },
  {
   "cell_type": "markdown",
   "metadata": {},
   "source": [
    "### 구현(삭제)"
   ]
  },
  {
   "cell_type": "code",
   "execution_count": 37,
   "metadata": {},
   "outputs": [
    {
     "name": "stdout",
     "output_type": "stream",
     "text": [
      "['a', 'b', 'c', 'c', 'd']\n"
     ]
    }
   ],
   "source": [
    "def delete_data(loc):\n",
    "    arr[loc] = None\n",
    "    for i in range(loc,len(arr)-2,1):\n",
    "        arr[i] = arr[i+1]\n",
    "    \n",
    "delete_data(1)\n",
    "print(arr)"
   ]
  },
  {
   "cell_type": "markdown",
   "metadata": {},
   "source": [
    "# 단순 연결 리스트\n",
    "\n",
    "- 삽입 삭제가 많이 일어나는 경우 효율적(오버헤드가 일어나지 않는다.)\n",
    "- 탐색은 선형 리스트가 빠르다. (물리적 순서와 논리적 순서가 동일함)\n",
    "- 노드는 데이터와 링크로 구성된 하나의 덩어리\n",
    "\n",
    "### 데이터 삽입\n",
    "\n",
    "- 새로 삽입 할 때 원래 가리키는 걸 새로 추가한 데이터로 연결\n",
    "- 새로 추가한 데이터가 원래 가리켜지던 데이터를 가리킴\n",
    "\n",
    "### 데이터 삭제\n",
    "- 주소값을 보관\n",
    "- 데이터 삭제"
   ]
  },
  {
   "cell_type": "code",
   "execution_count": 15,
   "metadata": {},
   "outputs": [
    {
     "name": "stdout",
     "output_type": "stream",
     "text": [
      "다현\n",
      "정연\n",
      "<__main__.Node object at 0x1072f65a0>\n",
      "<__main__.Node object at 0x1072f65a0>\n",
      "트이\n",
      "<__main__.Node object at 0x1073e5fd0>\n",
      "<__main__.Node object at 0x1073e5fd0>\n",
      "다현 정연 트이 \n",
      "상구\n",
      "다현 <__main__.Node object at 0x1072f65a0>, 정연 <__main__.Node object at 0x1072f7230>, 상구 <__main__.Node object at 0x1073e5fd0>, 트이 None, \n",
      "<__main__.Node object at 0x1072f65a0>, None, \n"
     ]
    }
   ],
   "source": [
    "class Node():\n",
    "    def __init__(self,data) -> None:\n",
    "        self.data = data\n",
    "        self.link = None\n",
    "node1 = Node(\"다현\")\n",
    "print(node1.data)\n",
    "node2 = Node(\"정연\")\n",
    "print(node2.data)\n",
    "\n",
    "node1.link = node2\n",
    "print(node2)\n",
    "print(node1.link)\n",
    "\n",
    "node3 = Node(\"트이\")\n",
    "print(node3.data)\n",
    "node2.link = node3\n",
    "print(node3)\n",
    "print(node2.link)\n",
    "\n",
    "current = node1\n",
    "print(current.data, end=' ')\n",
    "while current.link != None:\n",
    "    current = current.link\n",
    "    print(current.data, end=' ')\n",
    "print()\n",
    "\n",
    "newnode = Node(\"상구\")\n",
    "print(newnode.data)\n",
    "newnode.link = node2.link\n",
    "node2.link = newnode\n",
    "\n",
    "current = node1\n",
    "print(current.data,current.link, end=', ')\n",
    "while current.link != None:\n",
    "    current = current.link\n",
    "    print(current.data,current.link, end=', ')\n",
    "print()\n",
    "\n",
    "node2.link = node3.link\n",
    "del(node3)\n",
    "\n",
    "current = node1\n",
    "print(current.link, end=', ')\n",
    "while current.link != None:\n",
    "    current = current.link\n",
    "    print(current.link, end=', ')\n",
    "print()"
   ]
  },
  {
   "cell_type": "markdown",
   "metadata": {},
   "source": [
    "# 131~146? 읽어오기\n",
    "# 과제 109페이지 참고 110 페이지 3-2 계수가 0인 항을 출력되지 않게 첫 항의 + 부호도 출력되지 않도록 해서 30줄 계수의 변경(0 하나는 포함) 제출\n",
    "19일 자정까지"
   ]
  },
  {
   "cell_type": "code",
   "execution_count": 29,
   "metadata": {},
   "outputs": [
    {
     "name": "stdout",
     "output_type": "stream",
     "text": [
      "P(x) = 7x^3 -1x^2 +5x^0 \n",
      "11957\n"
     ]
    }
   ],
   "source": [
    "px = [7,-1,0,5]\n",
    "\n",
    "def printPoly(p_x):\n",
    "    term = len(px)-1\n",
    "    poltStr = \"P(x) = \"\n",
    "    \n",
    "    for i in range(len(p_x)):\n",
    "        coef = p_x[i]\n",
    "        if (coef > 0 and i > 0):\n",
    "            poltStr += \"+\"\n",
    "        if coef != 0:\n",
    "            poltStr += str(coef) + \"x^\" + str(term)+ \" \"\n",
    "        term -= 1\n",
    "        \n",
    "    return poltStr\n",
    "\n",
    "def cal(xVal,p_x):\n",
    "    returnValue =0\n",
    "    term = len(px)-1\n",
    "    for i in range(len(px)):\n",
    "        coef = p_x[i]\n",
    "        returnValue += coef*xVal **term\n",
    "        term -= 1\n",
    "    return returnValue\n",
    "\n",
    "print(printPoly(px))\n",
    "xVal = int(input(\"x: ?\"))\n",
    "print(cal(xVal,px))"
   ]
  }
 ],
 "metadata": {
  "kernelspec": {
   "display_name": "transformer",
   "language": "python",
   "name": "python3"
  },
  "language_info": {
   "codemirror_mode": {
    "name": "ipython",
    "version": 3
   },
   "file_extension": ".py",
   "mimetype": "text/x-python",
   "name": "python",
   "nbconvert_exporter": "python",
   "pygments_lexer": "ipython3",
   "version": "3.12.2"
  }
 },
 "nbformat": 4,
 "nbformat_minor": 2
}
