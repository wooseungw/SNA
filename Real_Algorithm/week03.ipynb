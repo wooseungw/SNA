{
 "cells": [
  {
   "cell_type": "markdown",
   "metadata": {},
   "source": [
    "# 선형 리스트(list, array)\n",
    "\n",
    "### 개념\n",
    "\n",
    "- 순서가 있는 리스트\n",
    "- 순서의 개념이 중요함\n",
    "- 메모리에도 차례로 저장\n",
    "\n",
    "### 데이터 삽입\n",
    "\n",
    "1. 끝의 빈칸을 확보\n",
    "2. 삽입될 위치 뒤의 저장 정보를 한칸씩 미룬다.\n",
    "3. 삽입\n"
   ]
  },
  {
   "cell_type": "code",
   "execution_count": 5,
   "metadata": {},
   "outputs": [
    {
     "name": "stdout",
     "output_type": "stream",
     "text": [
      "['a', 'b', 'c', 'd', '삽입', 'e']\n"
     ]
    }
   ],
   "source": [
    "arr = ['a','b','c','d','e']\n",
    "arr.append(None)\n",
    "arr[5] = arr[4]\n",
    "arr[4] = \"삽입\"\n",
    "print(arr)\n"
   ]
  },
  {
   "cell_type": "markdown",
   "metadata": {},
   "source": [
    "\n",
    "### 데이터 삭제\n",
    "\n",
    "1. 하나를 지우고\n",
    "2. 지워진 바로 뒤부터 한칸씩 앞으로 당긴다\n"
   ]
  },
  {
   "cell_type": "code",
   "execution_count": 6,
   "metadata": {},
   "outputs": [
    {
     "name": "stdout",
     "output_type": "stream",
     "text": [
      "['a', 'b', 'c', 'd', 'e']\n"
     ]
    }
   ],
   "source": [
    "arr[4] = None\n",
    "arr[4] = arr[5]\n",
    "arr[5] = None\n",
    "del(arr[5])\n",
    "print(arr)"
   ]
  },
  {
   "cell_type": "markdown",
   "metadata": {},
   "source": [
    "### 구현"
   ]
  },
  {
   "cell_type": "code",
   "execution_count": 23,
   "metadata": {},
   "outputs": [
    {
     "name": "stdout",
     "output_type": "stream",
     "text": [
      "['a']\n",
      "['a', 'b']\n",
      "['a', 'b', 'c']\n",
      "['a', 'b', 'c', 'd']\n"
     ]
    }
   ],
   "source": [
    "arr = []\n",
    "arr.append(None)\n",
    "lenght = len(arr)\n",
    "arr[lenght-1]='a'\n",
    "print(arr)\n",
    "\n",
    "arr.append(None)\n",
    "lenght = len(arr)\n",
    "arr[lenght-1]='b'\n",
    "print(arr)\n",
    "\n",
    "def add_data(value):\n",
    "    arr.append(None)\n",
    "    lenght = len(arr)\n",
    "    arr[lenght-1] = value\n",
    "\n",
    "add_data('c')\n",
    "print(arr)\n",
    "add_data('d')\n",
    "print(arr)"
   ]
  },
  {
   "cell_type": "markdown",
   "metadata": {},
   "source": [
    "### 구현(삽입)"
   ]
  },
  {
   "cell_type": "code",
   "execution_count": 24,
   "metadata": {},
   "outputs": [
    {
     "ename": "IndexError",
     "evalue": "list assignment index out of range",
     "output_type": "error",
     "traceback": [
      "\u001b[0;31m---------------------------------------------------------------------------\u001b[0m",
      "\u001b[0;31mIndexError\u001b[0m                                Traceback (most recent call last)",
      "Cell \u001b[0;32mIn[24], line 8\u001b[0m\n\u001b[1;32m      5\u001b[0m         arr[i\u001b[38;5;241m-\u001b[39m\u001b[38;5;241m1\u001b[39m] \u001b[38;5;241m=\u001b[39m \u001b[38;5;28;01mNone\u001b[39;00m\n\u001b[1;32m      6\u001b[0m     arr[loc] \u001b[38;5;241m=\u001b[39m value\n\u001b[0;32m----> 8\u001b[0m \u001b[43minsert_data\u001b[49m\u001b[43m(\u001b[49m\u001b[38;5;241;43m1\u001b[39;49m\u001b[43m,\u001b[49m\u001b[38;5;124;43m\"\u001b[39;49m\u001b[38;5;124;43m나\u001b[39;49m\u001b[38;5;124;43m\"\u001b[39;49m\u001b[43m)\u001b[49m\n\u001b[1;32m      9\u001b[0m \u001b[38;5;28mprint\u001b[39m(arr)\n",
      "Cell \u001b[0;32mIn[24], line 4\u001b[0m, in \u001b[0;36minsert_data\u001b[0;34m(loc, value)\u001b[0m\n\u001b[1;32m      2\u001b[0m arr\u001b[38;5;241m.\u001b[39mappend(\u001b[38;5;28;01mNone\u001b[39;00m)\n\u001b[1;32m      3\u001b[0m \u001b[38;5;28;01mfor\u001b[39;00m i \u001b[38;5;129;01min\u001b[39;00m \u001b[38;5;28mrange\u001b[39m(\u001b[38;5;28mlen\u001b[39m(arr),loc,\u001b[38;5;241m-\u001b[39m\u001b[38;5;241m1\u001b[39m):\n\u001b[0;32m----> 4\u001b[0m     \u001b[43marr\u001b[49m\u001b[43m[\u001b[49m\u001b[43mi\u001b[49m\u001b[43m]\u001b[49m \u001b[38;5;241m=\u001b[39m arr[i\u001b[38;5;241m-\u001b[39m\u001b[38;5;241m1\u001b[39m]\n\u001b[1;32m      5\u001b[0m     arr[i\u001b[38;5;241m-\u001b[39m\u001b[38;5;241m1\u001b[39m] \u001b[38;5;241m=\u001b[39m \u001b[38;5;28;01mNone\u001b[39;00m\n\u001b[1;32m      6\u001b[0m arr[loc] \u001b[38;5;241m=\u001b[39m value\n",
      "\u001b[0;31mIndexError\u001b[0m: list assignment index out of range"
     ]
    }
   ],
   "source": [
    "def insert_data(loc,value):\n",
    "    arr.append(None)\n",
    "    for i in range(len(arr),loc,-1):\n",
    "        arr[i] = arr[i-1]\n",
    "        arr[i-1] = None\n",
    "    arr[loc] = value\n",
    "\n",
    "insert_data(1,\"나\")\n",
    "print(arr)"
   ]
  }
 ],
 "metadata": {
  "kernelspec": {
   "display_name": "transformer",
   "language": "python",
   "name": "python3"
  },
  "language_info": {
   "codemirror_mode": {
    "name": "ipython",
    "version": 3
   },
   "file_extension": ".py",
   "mimetype": "text/x-python",
   "name": "python",
   "nbconvert_exporter": "python",
   "pygments_lexer": "ipython3",
   "version": "3.12.2"
  }
 },
 "nbformat": 4,
 "nbformat_minor": 2
}
