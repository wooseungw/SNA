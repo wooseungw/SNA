{
 "cells": [
  {
   "cell_type": "markdown",
   "metadata": {},
   "source": [
    "# 스택 큐"
   ]
  },
  {
   "cell_type": "markdown",
   "metadata": {},
   "source": [
    "올바른 괄호 체크"
   ]
  },
  {
   "cell_type": "code",
   "execution_count": 18,
   "metadata": {},
   "outputs": [
    {
     "name": "stdout",
     "output_type": "stream",
     "text": [
      "스택이 비었습니다.\n",
      ")A+B( ==> False\n",
      "{{)({}]A++++BB}} ==> False\n",
      "((A+B)-C ==> False\n",
      "(A+B] ==> False\n",
      "(<A+{B-C}/[C*D]>) ==> True\n"
     ]
    }
   ],
   "source": [
    "## 전역 변수 선언 부분 ##\n",
    "SIZE = 100\n",
    "stack = [ None for _ in range(SIZE) ]\n",
    "top = -1\n",
    "\n",
    "## 함수 선언 부분 ##\n",
    "def isStackFull() :\n",
    "\tglobal SIZE, stack, top\n",
    "\tif (top >= SIZE-1) :\n",
    "\t\treturn True\n",
    "\telse :\n",
    "\t\treturn False\n",
    "\n",
    "def isStackEmpty() :\n",
    "\tglobal SIZE, stack, top\n",
    "\tif (top == -1) :\n",
    "\t\treturn True\n",
    "\telse :\n",
    "\t\treturn False\n",
    "\n",
    "def push(data) :\n",
    "\tglobal SIZE, stack, top\n",
    "\tif (isStackFull()) :\n",
    "\t\tprint(\"스택이 꽉 찼습니다.\")\n",
    "\t\treturn\n",
    "\ttop += 1\n",
    "\tstack[top] = data\n",
    "\n",
    "def pop() :\n",
    "\tglobal SIZE, stack, top\n",
    "\tif (isStackEmpty()) :\n",
    "\t\tprint(\"스택이 비었습니다.\")\n",
    "\t\treturn None\n",
    "\tdata = stack[top]\n",
    "\tstack[top] = None\n",
    "\ttop -= 1\n",
    "\treturn data\n",
    "\n",
    "def checkBracket(expr) :\n",
    "\tfor ch in expr:\n",
    "\t\tif ch in '([{<':\n",
    "\t\t\tpush(ch)\n",
    "\t\telif ch in ')]}>':\n",
    "\t\t\tout = pop()\n",
    "\t\t\tif ch == ')' and out == '(':\n",
    "\t\t\t\tpass\n",
    "\t\t\telif ch == ']' and out == '[':\n",
    "\t\t\t\tpass\n",
    "\t\t\telif ch == '}' and out == '{':\n",
    "\t\t\t\tpass\n",
    "\t\t\telif ch == '>' and out == '<':\n",
    "\t\t\t\tpass\n",
    "\t\t\telse:\n",
    "\t\t\t\treturn False\n",
    "\t\telse :\n",
    "\t\t\tpass\n",
    "\tif isStackEmpty() :\n",
    "\t\treturn True\n",
    "\telse :\n",
    "\t\treturn False\n",
    "\n",
    "\n",
    "## 메인 코드 부분 ##\n",
    "if __name__ == \"__main__\" :\n",
    "\n",
    "\texprAry = [')A+B(', '{{)({}]A++++BB}}','((A+B)-C', '(A+B]', '(<A+{B-C}/[C*D]>)']\n",
    "\n",
    "\tfor expr in exprAry :\n",
    "\t\ttop = -1\n",
    "\t\tprint(expr, '==>', checkBracket(expr))\n"
   ]
  },
  {
   "cell_type": "markdown",
   "metadata": {},
   "source": [
    "## \"스택이 비어있습니다\"가 출력되는 이유\n",
    "\n",
    "')A+B('는 push()보다 pop()이 먼저 실행되어서 top이 -1이기 때문에, pop에서 if (isStackEmpty()) :print(\"스택이 비었습니다.\") 구문이  isStackEmpty()에서 True가 반환되기 때문에 실행된다. 때문에 스택이 비었습니다. 출력이 생성된다."
   ]
  },
  {
   "cell_type": "code",
   "execution_count": 19,
   "metadata": {},
   "outputs": [],
   "source": [
    "SIZE = 100\n",
    "queue = [ None for _ in range(SIZE) ]\n",
    "front = rear = -1\n",
    "def isQueueEmpty() :\n",
    "    global SIZE, queue, front, rear\n",
    "    if (front == rear) :\n",
    "        return True\n",
    "    else :\n",
    "        return False\n",
    "def enQueue(data):\n",
    "    global SIZE, queue, front, rear\n",
    "    if isQueueEmpty():\n",
    "        print(\"큐가 꽉 찼습니다.\")\n",
    "        return\n",
    "    rear += 1\n",
    "    queue[rear] = data"
   ]
  },
  {
   "cell_type": "markdown",
   "metadata": {},
   "source": []
  }
 ],
 "metadata": {
  "kernelspec": {
   "display_name": "transformer",
   "language": "python",
   "name": "python3"
  },
  "language_info": {
   "codemirror_mode": {
    "name": "ipython",
    "version": 3
   },
   "file_extension": ".py",
   "mimetype": "text/x-python",
   "name": "python",
   "nbconvert_exporter": "python",
   "pygments_lexer": "ipython3",
   "version": "3.12.2"
  }
 },
 "nbformat": 4,
 "nbformat_minor": 2
}
