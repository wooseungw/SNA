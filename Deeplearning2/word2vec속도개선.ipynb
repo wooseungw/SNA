{
 "cells": [
  {
   "cell_type": "code",
   "execution_count": 1,
   "id": "7319461e-0688-4a62-baf4-75ad0d753d00",
   "metadata": {},
   "outputs": [],
   "source": [
    "import numpy as np"
   ]
  },
  {
   "cell_type": "code",
   "execution_count": 2,
   "id": "29858d51-a783-4046-9eba-b8981f99788e",
   "metadata": {},
   "outputs": [],
   "source": [
    "W=np.arange(21).reshape(7,3)"
   ]
  },
  {
   "cell_type": "code",
   "execution_count": 3,
   "id": "9b922600-e28a-4b19-8c04-f1a0f735c59c",
   "metadata": {},
   "outputs": [
    {
     "data": {
      "text/plain": [
       "array([[ 0,  1,  2],\n",
       "       [ 3,  4,  5],\n",
       "       [ 6,  7,  8],\n",
       "       [ 9, 10, 11],\n",
       "       [12, 13, 14],\n",
       "       [15, 16, 17],\n",
       "       [18, 19, 20]])"
      ]
     },
     "execution_count": 3,
     "metadata": {},
     "output_type": "execute_result"
    }
   ],
   "source": [
    "W"
   ]
  },
  {
   "cell_type": "code",
   "execution_count": 4,
   "id": "6bcc3b97-3e19-45b1-9329-dc2cbebdb894",
   "metadata": {},
   "outputs": [
    {
     "data": {
      "text/plain": [
       "array([6, 7, 8])"
      ]
     },
     "execution_count": 4,
     "metadata": {},
     "output_type": "execute_result"
    }
   ],
   "source": [
    "W[2]"
   ]
  },
  {
   "cell_type": "code",
   "execution_count": 5,
   "id": "3865591d-69ad-464e-85e3-d2c2a5a56b20",
   "metadata": {},
   "outputs": [
    {
     "data": {
      "text/plain": [
       "array([15, 16, 17])"
      ]
     },
     "execution_count": 5,
     "metadata": {},
     "output_type": "execute_result"
    }
   ],
   "source": [
    "W[5]"
   ]
  },
  {
   "cell_type": "code",
   "execution_count": 6,
   "id": "416e7925-24ce-4fca-b55f-4fcb2d6fc20c",
   "metadata": {},
   "outputs": [
    {
     "data": {
      "text/plain": [
       "array([[ 3,  4,  5],\n",
       "       [ 0,  1,  2],\n",
       "       [ 9, 10, 11],\n",
       "       [ 0,  1,  2]])"
      ]
     },
     "execution_count": 6,
     "metadata": {},
     "output_type": "execute_result"
    }
   ],
   "source": [
    "idx=np.array([1,0,3,0]) #원하는 팽 번호들을 배열에 명시, 인덱스 4개(1,0,3,0)번째 행을 한꺼번에 추출\n",
    "W[idx]"
   ]
  },
  {
   "cell_type": "code",
   "execution_count": 7,
   "id": "5f06abd0-b1fb-4a6f-b1c0-e2da002610e4",
   "metadata": {},
   "outputs": [],
   "source": [
    "class Embedding:\n",
    "    def __init__(self, W):\n",
    "        self.params = [W]\n",
    "        self.grads = [np.zeros_like(W)] \n",
    "        self.idx = None\n",
    "\n",
    "    def forward(self, idx): \n",
    "        W, = self.params\n",
    "        self.idx = idx\n",
    "        out = W[idx] #슬라이싱\n",
    "        return out\n",
    "\n",
    "    def backward(self, dout):\n",
    "        dW, = self.grads\n",
    "        dW[...] = 0\n",
    "        np.add.at(dW, self.idx, dout) #중복문제 해결을 위해 dh각 행의 값을 dW의 해당행에 더해준다.\n",
    "        return None\n",
    "\n"
   ]
  },
  {
   "cell_type": "code",
   "execution_count": 8,
   "id": "0d36902b-ee3d-417f-becc-93b03f5e1b93",
   "metadata": {},
   "outputs": [],
   "source": [
    "import numpy as np"
   ]
  },
  {
   "cell_type": "code",
   "execution_count": 9,
   "id": "e71bdd39-a98b-46be-950e-fce1da88a7c5",
   "metadata": {},
   "outputs": [],
   "source": [
    "dW=np.zeros((3,3))"
   ]
  },
  {
   "cell_type": "code",
   "execution_count": 10,
   "id": "6a3ac96d-4e1c-4d27-bd97-bdb4415d3d19",
   "metadata": {},
   "outputs": [],
   "source": [
    "dout=np.arange(12).reshape(4,3)\n"
   ]
  },
  {
   "cell_type": "code",
   "execution_count": 11,
   "id": "88b12ead-9c7c-47ab-98ab-aed55c0fef39",
   "metadata": {},
   "outputs": [],
   "source": [
    "idx=[0,2,1,2]"
   ]
  },
  {
   "cell_type": "code",
   "execution_count": 12,
   "id": "fd6e3eef-d85b-4676-ae59-0c6b590596da",
   "metadata": {},
   "outputs": [
    {
     "data": {
      "text/plain": [
       "array([[0., 0., 0.],\n",
       "       [0., 0., 0.],\n",
       "       [0., 0., 0.]])"
      ]
     },
     "execution_count": 12,
     "metadata": {},
     "output_type": "execute_result"
    }
   ],
   "source": [
    "dW"
   ]
  },
  {
   "cell_type": "code",
   "execution_count": 13,
   "id": "0fa921f5-252b-4789-a1ed-b07c08f99816",
   "metadata": {},
   "outputs": [
    {
     "data": {
      "text/plain": [
       "array([[ 0,  1,  2],\n",
       "       [ 3,  4,  5],\n",
       "       [ 6,  7,  8],\n",
       "       [ 9, 10, 11]])"
      ]
     },
     "execution_count": 13,
     "metadata": {},
     "output_type": "execute_result"
    }
   ],
   "source": [
    "dout"
   ]
  },
  {
   "cell_type": "code",
   "execution_count": 14,
   "id": "da58cbc0-e2d2-4c4d-abe9-77de638beb41",
   "metadata": {},
   "outputs": [
    {
     "data": {
      "text/plain": [
       "[0, 2, 1, 2]"
      ]
     },
     "execution_count": 14,
     "metadata": {},
     "output_type": "execute_result"
    }
   ],
   "source": [
    "idx"
   ]
  },
  {
   "cell_type": "code",
   "execution_count": 15,
   "id": "bb113914-f95c-4659-963c-74499ada33b7",
   "metadata": {},
   "outputs": [],
   "source": [
    "np.add.at(dW,idx,dout)"
   ]
  },
  {
   "cell_type": "code",
   "execution_count": 16,
   "id": "3da7ddc3-1394-412c-8e05-48781e280fbc",
   "metadata": {},
   "outputs": [
    {
     "data": {
      "text/plain": [
       "array([[ 0.,  1.,  2.],\n",
       "       [ 6.,  7.,  8.],\n",
       "       [12., 14., 16.]])"
      ]
     },
     "execution_count": 16,
     "metadata": {},
     "output_type": "execute_result"
    }
   ],
   "source": [
    "dW"
   ]
  },
  {
   "cell_type": "code",
   "execution_count": 17,
   "id": "8f2bc3fc-1e7a-488a-bef6-a5cd6c4ce4aa",
   "metadata": {},
   "outputs": [],
   "source": [
    "class EmbeddingDot:\n",
    "    def __init__(self, W): \n",
    "        self.embed = Embedding(W)\n",
    "        self.params = self.embed.params\n",
    "        self.grads = self.embed.grads\n",
    "        self.cache = None\n",
    "\n",
    "    def forward(self, h, idx):\n",
    "        target_W = self.embed.forward(idx)\n",
    "        out = np.sum(target_W * h, axis=1)\n",
    "\n",
    "        self.cache = (h, target_W)\n",
    "        return out\n",
    "\n",
    "    def backward(self, dout):\n",
    "        h, target_W = self.cache\n",
    "        dout = dout.reshape(dout.shape[0], 1)\n",
    "\n",
    "        dtarget_W = dout * h\n",
    "        self.embed.backward(dtarget_W)\n",
    "        dh = dout * target_W\n",
    "        return dh"
   ]
  },
  {
   "cell_type": "code",
   "execution_count": 18,
   "id": "dbf0adc9-aedd-421a-8be3-8e77cf3554fe",
   "metadata": {},
   "outputs": [
    {
     "name": "stdout",
     "output_type": "stream",
     "text": [
      "[4 8 3]\n",
      "[[ 3  7 11]\n",
      " [ 2 10 18]\n",
      " [ 3 15 27]]\n",
      "[[-5 -3  5]\n",
      " [ 0  0  0]\n",
      " [ 0 -1  1]\n",
      " [ 0  0  0]]\n"
     ]
    }
   ],
   "source": [
    "\n",
    "W_out = np.arange(1,13).reshape(3,4)\n",
    "h = np.array([[0,-1,1],[-1,0,1],[-1,-1,1]])\n",
    "ds = np.array([1,2,3])\n",
    "t = np.array([2,0,0])\n",
    "\n",
    "ED = EmbeddingDot(W_out.T)\n",
    "\n",
    "print(ED.forward(h,t))\n",
    "print(ED.backward(ds))\n",
    "print(ED.grads[0])"
   ]
  },
  {
   "cell_type": "code",
   "execution_count": 19,
   "id": "7aa42c67-073c-4178-b107-84fbd28641c7",
   "metadata": {},
   "outputs": [
    {
     "name": "stdout",
     "output_type": "stream",
     "text": [
      "[[ 7  8  9]\n",
      " [ 1  2  3]\n",
      " [10 11 12]\n",
      " [ 1  2  3]]\n",
      "[[2 1 2]\n",
      " [0 0 0]\n",
      " [0 1 1]\n",
      " [1 1 0]]\n"
     ]
    }
   ],
   "source": [
    "import sys\n",
    "sys.path.append('common') # 각자의 경로로 수정해주세요.\n",
    "import numpy as np\n",
    "from common.layers import Embedding\n",
    "\n",
    "W_in = np.arange(1,13).reshape(4,3)\n",
    "idx = np.array([2,0,3,0])\n",
    "dh = np.array([[0,1,1],[1,0,1],[1,1,0],[1,1,1]])\n",
    "\n",
    "Emb = Embedding(W_in)\n",
    "print(Emb.forward(idx))\n",
    "\n",
    "Emb.backward(dh)\n",
    "print(Emb.grads[0])"
   ]
  },
  {
   "cell_type": "code",
   "execution_count": 20,
   "id": "ce6b67fe-1c05-4bc8-9934-1cf6da040804",
   "metadata": {},
   "outputs": [
    {
     "name": "stdout",
     "output_type": "stream",
     "text": [
      "1\n",
      "2\n",
      "3\n"
     ]
    }
   ],
   "source": [
    "W_out = np.arange(1,13).reshape(3,4)\n",
    "h = np.array([[0,-1,1],[-1,0,1],[-1,-1,1]])\n",
    "ds = np.array([1,2,3])\n",
    "t = np.array([2,0,0])\n",
    "\n",
    "ED = EmbeddingDot(W_out.T)\n",
    "\n",
    "print(1)\n",
    "print(2)\n",
    "print(3)"
   ]
  },
  {
   "cell_type": "code",
   "execution_count": null,
   "id": "28f59ecc-7716-4abb-81b6-24ffac2ba996",
   "metadata": {},
   "outputs": [],
   "source": []
  },
  {
   "cell_type": "code",
   "execution_count": null,
   "id": "ebba6374-170f-4792-b1bb-aba2a920a8b8",
   "metadata": {},
   "outputs": [],
   "source": []
  }
 ],
 "metadata": {
  "kernelspec": {
   "display_name": "dust",
   "language": "python",
   "name": "python3"
  },
  "language_info": {
   "codemirror_mode": {
    "name": "ipython",
    "version": 3
   },
   "file_extension": ".py",
   "mimetype": "text/x-python",
   "name": "python",
   "nbconvert_exporter": "python",
   "pygments_lexer": "ipython3",
   "version": "3.12.2"
  }
 },
 "nbformat": 4,
 "nbformat_minor": 5
}
