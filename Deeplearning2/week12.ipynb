{
 "cells": [
  {
   "cell_type": "code",
   "execution_count": 26,
   "metadata": {},
   "outputs": [],
   "source": [
    "import sys\n",
    "sys.path.append('..')\n",
    "import numpy as np\n",
    "\n",
    "from common.functions import softmax\n",
    "from rnnlm import Rnnlm\n",
    "from better_rnnlm import BetterRnnlm\n",
    "\n",
    "class RnnlmGen(Rnnlm):\n",
    "    def generate(self, start_id, skip_ids=None,sample_size=None):\n",
    "        word_ids = [start_id]\n",
    "        \n",
    "        x = start_id\n",
    "        \n",
    "        while len(word_ids) < sample_size:\n",
    "            x = np.array(x).reshape(1, 1)\n",
    "            score = self.predict(x)\n",
    "            p = softmax(score.flatten())\n",
    "            \n",
    "            sampled = np.random.choice(len(p), size=1, p=p)\n",
    "            if(skip_ids is None) or (sampled not in skip_ids):\n",
    "                x = sampled\n",
    "                word_ids.append(int(x))\n",
    "                \n",
    "        return word_ids\n",
    "    \n",
    "    def get_state(self):\n",
    "        return self.lstm_layer.h, self.lstm_layer.c\n",
    "    \n",
    "    def set_state(self, state):\n",
    "        self.lstm_layer.set_state(*state)\n",
    "        \n",
    "        \n",
    "\n"
   ]
  },
  {
   "cell_type": "code",
   "execution_count": 27,
   "metadata": {},
   "outputs": [
    {
     "name": "stdout",
     "output_type": "stream",
     "text": [
      "you found it will provide information about condemn elevators ' chief proposed equity to the second has used completed.\n",
      " some recently on the rights ' name of the type of managed to make technology that including kkr.\n",
      " the joining growth competing metals vary in mitterrand.\n",
      " every limit takes effect on contraceptive expenditures since its recent report and instead of future policy may with each network of them.\n",
      " pie in december seven and larger domestic maturing guarantees and making it following its deficit-reduction rate the short return to sell it five or two other companies said robert\n"
     ]
    }
   ],
   "source": [
    "import sys\n",
    "sys.path.append('..')\n",
    "from rnnlm_gen import RnnlmGen\n",
    "from dataset import ptb\n",
    "import numpy as np\n",
    "\n",
    "corpus, word_to_id, id_to_word = ptb.load_data('train')\n",
    "vocab_size = len(word_to_id)\n",
    "corpus_size = len(corpus)\n",
    "\n",
    "model = RnnlmGen()\n",
    "model.load_params('/Users/seungwoo/Workspace/SNA/Deeplearning2/Rnnlm.pkl')\n",
    "\n",
    "start_word = 'you'\n",
    "start_id = word_to_id[start_word]\n",
    "skip_words = ['N', '<unk>', '$']\n",
    "skip_ids = [word_to_id[w] for w in skip_words]\n",
    "\n",
    "word_ids = model.generate(start_id, skip_ids)\n",
    "txt = ' '.join([id_to_word[i] for i in word_ids])\n",
    "txt = txt.replace(' <eos>', '.\\n')\n",
    "print(txt)"
   ]
  },
  {
   "cell_type": "code",
   "execution_count": 28,
   "metadata": {},
   "outputs": [
    {
     "name": "stdout",
     "output_type": "stream",
     "text": [
      "you can recoup.\n",
      " there is a real slowdown in the poorest soon.\n",
      " if i think i have slightly better on a west german prospectus.\n",
      " set lionel says the analyst at&t says the there is n't enough losing the confirmation of a petition the new currency will be aligned with or cut it does n't think citizens is not paying a 's address in the beneficial period.\n",
      " revenues for most estimates in draw gains grew to a dollar or cost trends from ekco that has fallen dividend to improve and economic growth in it items.\n",
      " mr.\n",
      "--------------------------------------------------\n",
      "the meaning of life is a combination of public where the laboratories '.\n",
      " it could keep the efforts to build heat with the opening center technology internal revenue.\n",
      " only sweeping congress in two bills to pay for a portion of the troop initial consortium owned by local news corp.\n",
      " if the third parties already would be repaid in dividend to accepting endanger the world 's surplus has significantly replaced significantly as a third as wholesale storm.\n",
      " in new jersey stock exchange border stock prices rebounded amid rumors that much of the two weekly strikes in new york thinks the dollar\n"
     ]
    }
   ],
   "source": [
    "import sys\n",
    "sys.path.append('..')\n",
    "from common.np import *\n",
    "from rnnlm_gen import BetterRnnlmGen\n",
    "from dataset import ptb\n",
    "\n",
    "corpus, word_to_id, id_to_word = ptb.load_data('train')\n",
    "vocab_size = len(word_to_id)\n",
    "corpus_size = len(corpus)\n",
    "\n",
    "model = BetterRnnlmGen()\n",
    "model.load_params('/Users/seungwoo/Workspace/SNA/Deeplearning2/BetterRnnlm.pkl')\n",
    "\n",
    "start_word = 'you'\n",
    "start_id = word_to_id[start_word]\n",
    "skip_words = ['N', '<unk>', '$']\n",
    "skip_ids = [word_to_id[w] for w in skip_words]\n",
    "\n",
    "word_ids = model.generate(start_id, skip_ids)\n",
    "\n",
    "txt = ' '.join([id_to_word[i] for i in word_ids])\n",
    "txt = txt.replace(' <eos>', '.\\n')\n",
    "\n",
    "print(txt)\n",
    "    \n",
    "    \n",
    "model.reset_state()\n",
    "\n",
    "start_words = 'the meaning of life is'\n",
    "start_ids = [word_to_id[w] for w in start_words.split(' ')]\n",
    "\n",
    "for x in start_ids[:-1]:\n",
    "    x = np.array(x).reshape(1, 1)\n",
    "    model.predict(x)\n",
    "    \n",
    "word_ids = model.generate(start_ids[-1], skip_ids, sample_size=100)\n",
    "word_ids = start_ids[:-1] + word_ids\n",
    "txt = ' '.join([id_to_word[i] for i in word_ids])\n",
    "txt = txt.replace(' <eos>', '.\\n')\n",
    "print('-' * 50)\n",
    "print(txt)\n"
   ]
  },
  {
   "cell_type": "code",
   "execution_count": null,
   "metadata": {},
   "outputs": [
    {
     "name": "stdout",
     "output_type": "stream",
     "text": [
      "asks -2.387032\n",
      "afford -2.439328\n",
      "approached -2.4620616\n",
      "angeles-based -2.4876866\n",
      "placed -2.5752003\n",
      "polled -2.7328558\n",
      "aide -2.8402522\n",
      "'ll -2.888253\n",
      "'m -2.980821\n",
      "succeeds -3.5941117\n"
     ]
    }
   ],
   "source": [
    "import sys\n",
    "sys.path.append('..')\n",
    "from common.np import *\n",
    "from rnnlm_gen import BetterRnnlmGen\n",
    "from dataset import ptb\n",
    "\n",
    "model = BetterRnnlmGen()\n",
    "model.load_params('/Users/seungwoo/Workspace/SNA/Deeplearning2/BetterRnnlm.pkl')\n",
    "\n",
    "corpus, word_to_id, id_to_word = ptb.load_data('train')\n",
    "\n",
    "x = np.array([[word_to_id['in']]])\n",
    "\n",
    "score = model.predict(x)\n",
    "score = score[0,0]\n",
    "next_word_ids = np.argsort(score)[:10]\n",
    "for i in next_word_ids:\n",
    "    print(id_to_word[i], score[i])\n"
   ]
  },
  {
   "cell_type": "code",
   "execution_count": 69,
   "metadata": {},
   "outputs": [
    {
     "name": "stdout",
     "output_type": "stream",
     "text": [
      "원래 배열: [3 1 2 4 5]\n",
      "정렬된 인덱스: [1 2 0 3 4]\n",
      "정렬된 배열: [1 2 3 4 5]\n"
     ]
    }
   ],
   "source": [
    "import numpy as np\n",
    "\n",
    "# 예제 배열 생성\n",
    "arr = np.array([3, 1, 2, 4, 5])\n",
    "\n",
    "# argsort를 사용하여 정렬된 인덱스 반환\n",
    "sorted_indices = np.argsort(arr)\n",
    "\n",
    "# 정렬된 인덱스를 사용하여 배열 정렬\n",
    "sorted_arr = arr[sorted_indices]\n",
    "\n",
    "print(\"원래 배열:\", arr)\n",
    "print(\"정렬된 인덱스:\", sorted_indices)\n",
    "print(\"정렬된 배열:\", sorted_arr)"
   ]
  },
  {
   "cell_type": "code",
   "execution_count": 67,
   "metadata": {},
   "outputs": [
    {
     "name": "stdout",
     "output_type": "stream",
     "text": [
      "the 0.16301416\n",
      "N 0.14149995\n",
      "<unk> 0.09958947\n",
      "a 0.048661537\n",
      "new 0.01891036\n",
      "japan 0.01820601\n",
      "its 0.016383901\n",
      "europe 0.012748684\n",
      "an 0.008564487\n",
      "london 0.006448672\n"
     ]
    }
   ],
   "source": [
    "import numpy as np\n",
    "\n",
    "# 소프트맥스 함수 정의\n",
    "def softmax(x):\n",
    "    e_x = np.exp(x - np.max(x))\n",
    "    return e_x / e_x.sum(axis=0)\n",
    "\n",
    "# 모델 초기화 및 텍스트 전처리\n",
    "model.reset_state()\n",
    "text = \"The global company Honda produces cars in\"\n",
    "text = text.lower()\n",
    "words = text.split(' ')\n",
    "xs = [word_to_id[w] for w in words]\n",
    "xs = np.array([xs])\n",
    "\n",
    "# 모델 예측\n",
    "score = model.predict(xs)\n",
    "score = score[0, -1]\n",
    "\n",
    "# 소프트맥스 적용\n",
    "probabilities = softmax(score)\n",
    "\n",
    "# 상위 10개 단어의 인덱스 및 확률 출력\n",
    "next_word_ids = np.argsort(probabilities)[::-1][:10]\n",
    "for word_id in next_word_ids:\n",
    "    print(id_to_word[word_id], probabilities[word_id])"
   ]
  },
  {
   "cell_type": "code",
   "execution_count": 64,
   "metadata": {},
   "outputs": [],
   "source": [
    "model.reset_state()"
   ]
  },
  {
   "cell_type": "code",
   "execution_count": 72,
   "metadata": {},
   "outputs": [
    {
     "name": "stdout",
     "output_type": "stream",
     "text": [
      "the 9.953855\n",
      "a 9.56018\n",
      "N 7.795572\n",
      "<unk> 7.5966907\n",
      "an 6.7525015\n",
      "mr. 6.7367268\n",
      "this 6.155939\n",
      "its 6.003313\n",
      "$ 5.8161683\n",
      "one 5.7097883\n"
     ]
    }
   ],
   "source": [
    "model.reset_state()\n",
    "text = \"New car will be released by\".lower().split(' ')\n",
    "xs = [word_to_id[w] for w in text]\n",
    "xs = np.array([xs])\n",
    "\n",
    "score = model.predict(xs)\n",
    "score = score[0,-1]\n",
    "\n",
    "next_word_ids = np.argsort(-score)[:10]\n",
    "for word in next_word_ids:\n",
    "    print(id_to_word[word], score[word])\n",
    "    \n",
    "model.reset_state()"
   ]
  }
 ],
 "metadata": {
  "kernelspec": {
   "display_name": "dust",
   "language": "python",
   "name": "python3"
  },
  "language_info": {
   "codemirror_mode": {
    "name": "ipython",
    "version": 3
   },
   "file_extension": ".py",
   "mimetype": "text/x-python",
   "name": "python",
   "nbconvert_exporter": "python",
   "pygments_lexer": "ipython3",
   "version": "3.12.2"
  }
 },
 "nbformat": 4,
 "nbformat_minor": 2
}
