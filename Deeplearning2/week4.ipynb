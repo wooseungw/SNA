{
 "cells": [
  {
   "cell_type": "code",
   "execution_count": 2,
   "metadata": {},
   "outputs": [
    {
     "data": {
      "text/plain": [
       "array([[ 0,  1,  2],\n",
       "       [ 3,  4,  5],\n",
       "       [ 6,  7,  8],\n",
       "       [ 9, 10, 11],\n",
       "       [12, 13, 14],\n",
       "       [15, 16, 17],\n",
       "       [18, 19, 20]])"
      ]
     },
     "execution_count": 2,
     "metadata": {},
     "output_type": "execute_result"
    }
   ],
   "source": [
    "import numpy as np\n",
    "\n",
    "W = np.arange(21).reshape(7, 3)\n",
    "W"
   ]
  },
  {
   "cell_type": "code",
   "execution_count": 3,
   "metadata": {},
   "outputs": [
    {
     "data": {
      "text/plain": [
       "array([[ 3,  4,  5],\n",
       "       [ 0,  1,  2],\n",
       "       [ 9, 10, 11],\n",
       "       [ 0,  1,  2]])"
      ]
     },
     "execution_count": 3,
     "metadata": {},
     "output_type": "execute_result"
    }
   ],
   "source": [
    "idx = np.array([1, 0, 3, 0])\n",
    "W[idx]"
   ]
  },
  {
   "cell_type": "code",
   "execution_count": 4,
   "metadata": {},
   "outputs": [],
   "source": [
    "class Embedding:\n",
    "    \"\"\"\n",
    "    Embedding 클래스는 단어 임베딩을 위한 클래스입니다.\n",
    "    Attributes:\n",
    "        params (list): 가중치 행렬 W를 포함하는 리스트.\n",
    "        grads (list): 가중치 행렬 W와 같은 형태의 0으로 초기화된 기울기 리스트.\n",
    "        idx (None or array-like): 인덱스를 저장하는 변수.\n",
    "    Methods:\n",
    "        __init__(W):\n",
    "            클래스의 인스턴스를 초기화합니다.\n",
    "            Args:\n",
    "                W (numpy.ndarray): 가중치 행렬.\n",
    "        forward(idx):\n",
    "            주어진 인덱스를 사용하여 가중치 행렬에서 임베딩 벡터를 추출합니다.\n",
    "            Args:\n",
    "                idx (array-like): 인덱스 배열.\n",
    "            Returns:\n",
    "                numpy.ndarray: 추출된 임베딩 벡터.\n",
    "        backward(dout):\n",
    "            역전파 단계에서 기울기를 계산합니다.\n",
    "            Args:\n",
    "                dout (numpy.ndarray): 출력 기울기.\n",
    "            Returns:\n",
    "                None\n",
    "    \"\"\"\n",
    "    def __init__(self, W):\n",
    "        self.params = [W]\n",
    "        self.grads = [np.zeros_like(W)]\n",
    "        self.idx = None\n",
    "        \n",
    "    def forward(self, idx):\n",
    "        W, = self.params\n",
    "        self.idx = idx\n",
    "        out = W[idx]\n",
    "        return out\n",
    "    \n",
    "    def backward(self, dout):\n",
    "        dW, = self.grads\n",
    "        dW[...] = 0\n",
    "        np.add.at(dW, self.idx, dout)\n",
    "        return None\n",
    "    \n",
    "embed = Embedding(W)\n",
    "out = embed.forward([0, 1, 3])\n"
   ]
  },
  {
   "cell_type": "code",
   "execution_count": 5,
   "metadata": {},
   "outputs": [
    {
     "name": "stdout",
     "output_type": "stream",
     "text": [
      "[[ 0  1  2]\n",
      " [ 3  4  5]\n",
      " [ 9 10 11]]\n"
     ]
    }
   ],
   "source": [
    "print(out)"
   ]
  },
  {
   "cell_type": "code",
   "execution_count": 6,
   "metadata": {},
   "outputs": [
    {
     "name": "stdout",
     "output_type": "stream",
     "text": [
      "None\n"
     ]
    }
   ],
   "source": [
    "backward = embed.backward(np.array([[1, 2, 3], [4, 5, 6], [7, 8, 9]]))\n",
    "print(backward)"
   ]
  },
  {
   "cell_type": "code",
   "execution_count": 3,
   "metadata": {},
   "outputs": [
    {
     "name": "stdout",
     "output_type": "stream",
     "text": [
      "h\n",
      " [[ 7  8  9]\n",
      " [ 1  2  3]\n",
      " [10 11 12]\n",
      " [ 1  2  3]]\n",
      "dL/dh\n",
      " [[2 1 2]\n",
      " [0 0 0]\n",
      " [0 1 1]\n",
      " [1 1 0]]\n"
     ]
    }
   ],
   "source": [
    "import sys\n",
    "sys.path.append('common')\n",
    "import numpy as np\n",
    "from common.layers import Embedding\n",
    "\n",
    "W_in = np.arange(1,13).reshape(4, 3)\n",
    "idx = np.array([2,0,3,0])\n",
    "idx_shape = idx.shape\n",
    "dh = np.array([[0,1,1], \n",
    "               [1,0,1], \n",
    "               [1,1,0], \n",
    "               [1,1,1]])\n",
    "dh_shpae = dh.shape\n",
    "Emb = Embedding(W_in)\n",
    "print(\"h\\n\",Emb.forward(idx))\n",
    "\n",
    "Emb.backward(dh)\n",
    "print(\"dL/dh\\n\",Emb.grads[0])\n",
    "\n"
   ]
  },
  {
   "cell_type": "code",
   "execution_count": 8,
   "metadata": {},
   "outputs": [
    {
     "name": "stdout",
     "output_type": "stream",
     "text": [
      "W_out\n",
      " [[ 1  2  3  4]\n",
      " [ 5  6  7  8]\n",
      " [ 9 10 11 12]]\n",
      "------\n",
      "ED.forward\n",
      " [4 8 3]\n",
      "------\n",
      "h\n",
      " [[ 0 -1  1]\n",
      " [-1  0  1]\n",
      " [-1 -1  1]]\n",
      "target_W\n",
      " [[ 3  7 11]\n",
      " [ 1  5  9]\n",
      " [ 1  5  9]]\n",
      "dout\n",
      " [[1]\n",
      " [2]\n",
      " [3]]\n",
      "dtarget_W\n",
      " [[ 0 -1  1]\n",
      " [-2  0  2]\n",
      " [-3 -3  3]]\n",
      "dh\n",
      " [[ 3  7 11]\n",
      " [ 2 10 18]\n",
      " [ 3 15 27]]\n",
      "ED.backward\n",
      " [[ 3  7 11]\n",
      " [ 2 10 18]\n",
      " [ 3 15 27]]\n",
      "------\n",
      "ED.grads\n",
      " [[-5 -3  5]\n",
      " [ 0  0  0]\n",
      " [ 0 -1  1]\n",
      " [ 0  0  0]]\n"
     ]
    }
   ],
   "source": [
    "class EmbeddingDot:\n",
    "    def __init__(self, W):\n",
    "        self.embed = Embedding(W)\n",
    "        self.params = self.embed.params\n",
    "        self.grads = self.embed.grads\n",
    "        self.cache = None\n",
    "        \n",
    "    def forward(self, h, idx):\n",
    "        target_W = self.embed.forward(idx)\n",
    "        out = np.sum(target_W * h, axis=1)\n",
    "        self.cache = (h, target_W)\n",
    "        return out\n",
    "    \n",
    "    def backward(self, dout):\n",
    "        h, target_W = self.cache\n",
    "        print(\"h\\n\",h)\n",
    "        print(\"target_W\\n\",target_W)\n",
    "        dout = dout.reshape(dout.shape[0], 1)\n",
    "        print(\"dout\\n\",dout)\n",
    "        dtarget_W = dout * h\n",
    "        print(\"dtarget_W\\n\",dtarget_W)\n",
    "        self.embed.backward(dtarget_W)\n",
    "        dh = dout * target_W\n",
    "        print(\"dh\\n\",dh)\n",
    "        return dh\n",
    "    \n",
    "W_out = np.arange(1, 13).reshape(3, 4)\n",
    "print(\"W_out\\n\",W_out)\n",
    "h = np.array([[0, -1, 1], \n",
    "              [-1, 0, 1], \n",
    "              [-1, -1, 1]])\n",
    "t= np.array([2, 0, 0])\n",
    "ds = np.array([1, 2, 3])\n",
    "\n",
    "ED = EmbeddingDot(W_out.T)\n",
    "print(\"------\")\n",
    "print(\"ED.forward\\n\",ED.forward(h, t))\n",
    "print(\"------\")\n",
    "print(\"ED.backward\\n\",ED.backward(ds))\n",
    "print(\"------\")\n",
    "print(\"ED.grads\\n\",ED.grads[0])"
   ]
  }
 ],
 "metadata": {
  "kernelspec": {
   "display_name": "dust",
   "language": "python",
   "name": "python3"
  },
  "language_info": {
   "codemirror_mode": {
    "name": "ipython",
    "version": 3
   },
   "file_extension": ".py",
   "mimetype": "text/x-python",
   "name": "python",
   "nbconvert_exporter": "python",
   "pygments_lexer": "ipython3",
   "version": "3.12.2"
  }
 },
 "nbformat": 4,
 "nbformat_minor": 2
}
