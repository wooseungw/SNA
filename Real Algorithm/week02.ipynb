{
 "cells": [
  {
   "cell_type": "markdown",
   "metadata": {},
   "source": [
    "_자료구조_\n",
    "\n",
    "자료구조의 목적은 효율성\n",
    "\n",
    "단순 자료구조는 int,float 등을 다룸\n",
    "\n",
    "선형 자료구조는 리스트(array,tensor,..),스택,큐와 같이 일렬로 표현 가능한 구조\n",
    "\n",
    "비선형은 linear하지 않게 작성되는 트리, graph(길찾기에 자주 사용됨 배송업체에서 자주 사용됨) 등\n",
    "\n",
    "파일 자료구조는 순차, index(색인), real(직접) file 나중에 데이터베이스에 연겨로딤\n",
    " \n",
    "순차파일구조는 공간효율이 높지만 추가,삭제시 비효율적 \n",
    "\n",
    "해시함수를 통해 위치 정보 탐색\n"
   ]
  },
  {
   "cell_type": "markdown",
   "metadata": {},
   "source": [
    "_알고리즘 개념_\n",
    "\n",
    "_알고리즘 표현_\n",
    "1. 자연어 표현 \n",
    "2. 순서도 표현\n",
    "3. 의사코드(pseudo code)로 표현\n",
    "4. 프로그램 코드\n",
    "\n",
    "순서도나 pseudo code를 보고 코딩 flowgorithm으로 짜기 쉬움\n",
    "\n",
    "_성능 측정_\n",
    "시간 복잡도와 공간 복잡도"
   ]
  },
  {
   "cell_type": "markdown",
   "metadata": {},
   "source": [
    "파이썬"
   ]
  },
  {
   "cell_type": "code",
   "execution_count": 2,
   "metadata": {},
   "outputs": [
    {
     "name": "stdout",
     "output_type": "stream",
     "text": [
      "HI\n"
     ]
    }
   ],
   "source": [
    "print(\"HI\")"
   ]
  },
  {
   "cell_type": "code",
   "execution_count": 6,
   "metadata": {},
   "outputs": [
    {
     "name": "stdout",
     "output_type": "stream",
     "text": [
      "<class 'str'>\n"
     ]
    }
   ],
   "source": [
    "stringVar = \"CamelCase\"\n",
    "string_var = \"snake_case\"\n",
    "print(type(stringVar))\n",
    "#..."
   ]
  },
  {
   "cell_type": "code",
   "execution_count": 11,
   "metadata": {},
   "outputs": [
    {
     "name": "stdout",
     "output_type": "stream",
     "text": [
      "ㅇ            ㅏ\n",
      "ㅇ           ㅏ\n",
      "ㅇ          ㅏ\n",
      "ㅇ         ㅏ\n",
      "ㅇ        ㅏ\n",
      "ㅇ       ㅏ\n",
      "ㅇ      ㅏ\n",
      "ㅇ     ㅏ\n",
      "ㅇ    ㅏ\n",
      "ㅇ   ㅏ\n",
      "ㅇ  ㅏ\n",
      "아\n"
     ]
    }
   ],
   "source": [
    "def ah():\n",
    "    for i in range(10,-1,-1):\n",
    "        print(\"ㅇ\", \" \"*i, \"ㅏ\")\n",
    "    return \"아\"\n",
    "print(ah())"
   ]
  },
  {
   "cell_type": "code",
   "execution_count": 13,
   "metadata": {},
   "outputs": [
    {
     "name": "stdout",
     "output_type": "stream",
     "text": [
      "<class 'list'>\n",
      "[3, 2, 2, 1]\n"
     ]
    }
   ],
   "source": [
    "l = [1,2,2,3]\n",
    "print(type(l))\n",
    "l.reverse()\n",
    "print(l)"
   ]
  },
  {
   "cell_type": "code",
   "execution_count": 18,
   "metadata": {},
   "outputs": [
    {
     "name": "stdout",
     "output_type": "stream",
     "text": [
      "[1, 3, 5, 7, 9, 11, 13, 15, 17, 19, 21, 23, 25, 27, 29, 31, 33, 35, 37, 39, 41, 43, 45, 47, 49, 51, 53, 55, 57, 59, 61, 63, 65, 67, 69, 71, 73, 75, 77, 79, 81, 83, 85, 87, 89, 91, 93, 95, 97, 99]\n"
     ]
    }
   ],
   "source": [
    "l = [i for i in range(100) if (i % 2 != 0)]\n",
    "print(l)"
   ]
  },
  {
   "cell_type": "markdown",
   "metadata": {},
   "source": [
    "### 세트"
   ]
  },
  {
   "cell_type": "code",
   "execution_count": 19,
   "metadata": {},
   "outputs": [
    {
     "name": "stdout",
     "output_type": "stream",
     "text": [
      "{2, 4}\n"
     ]
    }
   ],
   "source": [
    "set1 = {1,2,3,4,5}\n",
    "set2 = {2,4,6,8}\n",
    "print(set1 & set2)"
   ]
  },
  {
   "cell_type": "markdown",
   "metadata": {},
   "source": [
    "## 연습문제"
   ]
  },
  {
   "cell_type": "markdown",
   "metadata": {},
   "source": [
    "short , long, int, double, str"
   ]
  },
  {
   "cell_type": "markdown",
   "metadata": {},
   "source": [
    "실수 - %f\n",
    "정수 - %d\n",
    "문자 - %s\n",
    "문자열 - %c\n"
   ]
  },
  {
   "cell_type": "markdown",
   "metadata": {},
   "source": [
    "input, int()"
   ]
  },
  {
   "cell_type": "markdown",
   "metadata": {},
   "source": [
    "// , % , **"
   ]
  },
  {
   "cell_type": "markdown",
   "metadata": {},
   "source": [
    "\"+=\""
   ]
  },
  {
   "cell_type": "markdown",
   "metadata": {},
   "source": [
    "아무것도 안나옴"
   ]
  },
  {
   "cell_type": "markdown",
   "metadata": {},
   "source": [
    "9번"
   ]
  },
  {
   "cell_type": "markdown",
   "metadata": {},
   "source": [
    "1번"
   ]
  },
  {
   "cell_type": "code",
   "execution_count": 1,
   "metadata": {},
   "outputs": [
    {
     "name": "stdout",
     "output_type": "stream",
     "text": [
      "300\n"
     ]
    }
   ],
   "source": [
    "def addValue(v1,v2):\n",
    "    result = v1 + v2\n",
    "    return result\n",
    "hap = addValue(100,200)\n",
    "print(hap)"
   ]
  },
  {
   "cell_type": "markdown",
   "metadata": {},
   "source": [
    "0\n",
    "\n",
    "200"
   ]
  },
  {
   "cell_type": "markdown",
   "metadata": {},
   "source": [
    "200"
   ]
  },
  {
   "cell_type": "markdown",
   "metadata": {},
   "source": [
    "10\n",
    "\n",
    "40\n",
    "\n",
    "20,30\n",
    "\n",
    "30,40"
   ]
  },
  {
   "cell_type": "markdown",
   "metadata": {},
   "source": [
    "count()\n",
    "\n",
    "index()\n",
    "\n",
    "copy()\n",
    "\n",
    "pop()"
   ]
  },
  {
   "cell_type": "markdown",
   "metadata": {},
   "source": [
    "[4,8]"
   ]
  },
  {
   "cell_type": "markdown",
   "metadata": {},
   "source": [
    "3, 4"
   ]
  },
  {
   "cell_type": "markdown",
   "metadata": {},
   "source": [
    "2,3"
   ]
  },
  {
   "cell_type": "code",
   "execution_count": 3,
   "metadata": {},
   "outputs": [
    {
     "name": "stdout",
     "output_type": "stream",
     "text": [
      "I#T# #쿡#북\n"
     ]
    }
   ],
   "source": [
    "myStr = \"#\"\n",
    "a = myStr.join(\"IT 쿡북\")\n",
    "print(a)"
   ]
  },
  {
   "cell_type": "markdown",
   "metadata": {},
   "source": [
    "3, 4"
   ]
  }
 ],
 "metadata": {
  "kernelspec": {
   "display_name": "Python 3",
   "language": "python",
   "name": "python3"
  },
  "language_info": {
   "codemirror_mode": {
    "name": "ipython",
    "version": 3
   },
   "file_extension": ".py",
   "mimetype": "text/x-python",
   "name": "python",
   "nbconvert_exporter": "python",
   "pygments_lexer": "ipython3",
   "version": "3.12.2"
  }
 },
 "nbformat": 4,
 "nbformat_minor": 2
}
