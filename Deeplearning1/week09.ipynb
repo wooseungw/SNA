{
 "cells": [
  {
   "cell_type": "code",
   "execution_count": 2,
   "metadata": {},
   "outputs": [
    {
     "name": "stdout",
     "output_type": "stream",
     "text": [
      "{'a': 0.995, 'b': 1.99}\n"
     ]
    }
   ],
   "source": [
    "import numpy as np\n",
    "\n",
    "class SGD:\n",
    "    def __init__(self, lr) -> None:\n",
    "        self.lr = lr\n",
    "    def update(self, params, grads):\n",
    "        for key in params.keys():\n",
    "            params[key] -= self.lr * grads[key]\n",
    "\n",
    "BTS = SGD(0.05)\n",
    "prams = {'a': 1, 'b': 2}\n",
    "grads = {'a': 0.1, 'b': 0.2}\n",
    "BTS.update(prams, grads)\n",
    "print(prams) # {'a': 0.95, 'b': 1.9}"
   ]
  },
  {
   "cell_type": "code",
   "execution_count": 6,
   "metadata": {},
   "outputs": [
    {
     "name": "stdout",
     "output_type": "stream",
     "text": [
      "{'a': 0.995, 'b': 1.99}\n"
     ]
    }
   ],
   "source": [
    "class Momentum:\n",
    "    def __init__(self,lr,momentum) -> None:\n",
    "        self.lr = lr    \n",
    "        self.momentum = momentum\n",
    "        self.v = None\n",
    "    def update(self,params, grads):\n",
    "        if self.v is None:\n",
    "            self.v = {}\n",
    "            for key, val in params.items():\n",
    "                self.v[key] = np.zeros_like(val)   \n",
    "        \n",
    "        for key in params.keys():\n",
    "            self.v[key] = self.momentum * self.v[key] - self.lr * grads[key]\n",
    "            params[key] += self.v[key]\n",
    "\n",
    "momentum = Momentum(0.05,0.9)\n",
    "prams = {'a': 1, 'b': 2}\n",
    "grads = {'a': 0.1, 'b': 0.2}\n",
    "momentum.update(prams, grads)\n",
    "print(prams) # {'a': 0.995, 'b': 1.99}"
   ]
  },
  {
   "cell_type": "code",
   "execution_count": 1,
   "metadata": {},
   "outputs": [
    {
     "ename": "NameError",
     "evalue": "name 'np' is not defined",
     "output_type": "error",
     "traceback": [
      "\u001b[0;31m---------------------------------------------------------------------------\u001b[0m",
      "\u001b[0;31mNameError\u001b[0m                                 Traceback (most recent call last)",
      "Cell \u001b[0;32mIn[1], line 18\u001b[0m\n\u001b[1;32m     16\u001b[0m prams \u001b[38;5;241m=\u001b[39m {\u001b[38;5;124m'\u001b[39m\u001b[38;5;124ma\u001b[39m\u001b[38;5;124m'\u001b[39m: \u001b[38;5;241m1.0\u001b[39m, \u001b[38;5;124m'\u001b[39m\u001b[38;5;124mb\u001b[39m\u001b[38;5;124m'\u001b[39m: \u001b[38;5;241m2.0\u001b[39m}\n\u001b[1;32m     17\u001b[0m grads \u001b[38;5;241m=\u001b[39m {\u001b[38;5;124m'\u001b[39m\u001b[38;5;124ma\u001b[39m\u001b[38;5;124m'\u001b[39m: \u001b[38;5;241m0.1\u001b[39m, \u001b[38;5;124m'\u001b[39m\u001b[38;5;124mb\u001b[39m\u001b[38;5;124m'\u001b[39m: \u001b[38;5;241m0.2\u001b[39m}\n\u001b[0;32m---> 18\u001b[0m \u001b[43mada\u001b[49m\u001b[38;5;241;43m.\u001b[39;49m\u001b[43mupdate\u001b[49m\u001b[43m(\u001b[49m\u001b[43mprams\u001b[49m\u001b[43m,\u001b[49m\u001b[43m \u001b[49m\u001b[43mgrads\u001b[49m\u001b[43m)\u001b[49m\n\u001b[1;32m     19\u001b[0m \u001b[38;5;28mprint\u001b[39m(prams) \u001b[38;5;66;03m# {'a': 0.9999999999999999, 'b': 1.9999999999999998}\u001b[39;00m\n",
      "Cell \u001b[0;32mIn[1], line 10\u001b[0m, in \u001b[0;36mAdaGrad.update\u001b[0;34m(self, params, grads)\u001b[0m\n\u001b[1;32m      8\u001b[0m     \u001b[38;5;28mself\u001b[39m\u001b[38;5;241m.\u001b[39mh \u001b[38;5;241m=\u001b[39m {}\n\u001b[1;32m      9\u001b[0m     \u001b[38;5;28;01mfor\u001b[39;00m key, val \u001b[38;5;129;01min\u001b[39;00m params\u001b[38;5;241m.\u001b[39mitems():\n\u001b[0;32m---> 10\u001b[0m         \u001b[38;5;28mself\u001b[39m\u001b[38;5;241m.\u001b[39mh[key] \u001b[38;5;241m=\u001b[39m \u001b[43mnp\u001b[49m\u001b[38;5;241m.\u001b[39mzeros_like(val)\n\u001b[1;32m     11\u001b[0m \u001b[38;5;28;01mfor\u001b[39;00m key \u001b[38;5;129;01min\u001b[39;00m params\u001b[38;5;241m.\u001b[39mkeys():\n\u001b[1;32m     12\u001b[0m     \u001b[38;5;28mself\u001b[39m\u001b[38;5;241m.\u001b[39mh[key] \u001b[38;5;241m+\u001b[39m\u001b[38;5;241m=\u001b[39m grads[key] \u001b[38;5;241m*\u001b[39m grads[key]\n",
      "\u001b[0;31mNameError\u001b[0m: name 'np' is not defined"
     ]
    }
   ],
   "source": [
    "class AdaGrad:\n",
    "    def __init__(self,lr) -> None:\n",
    "        self.lr = lr\n",
    "        self.h = None\n",
    "        \n",
    "    def update(self, params, grads):\n",
    "        if self.h is None:\n",
    "            self.h = {}\n",
    "            for key, val in params.items():\n",
    "                self.h[key] = np.zeros_like(val)\n",
    "        for key in params.keys():\n",
    "            self.h[key] += grads[key] * grads[key]\n",
    "            params[key] -= self.lr * grads[key] / (np.sqrt(self.h[key]) + 1e-7)\n",
    "            \n",
    "ada = AdaGrad(0.01)\n",
    "prams = {'a': 1.0, 'b': 2.0}\n",
    "grads = {'a': 0.1, 'b': 0.2}\n",
    "ada.update(prams, grads)\n",
    "print(prams) # {'a': 0.9999999999999999, 'b': 1.9999999999999998}"
   ]
  },
  {
   "cell_type": "markdown",
   "metadata": {},
   "source": [
    "레포트는 옵티마이저 비교하는 것 코드, 그래프 출력까지한걸 올려야함 이번주까지"
   ]
  },
  {
   "cell_type": "code",
   "execution_count": 3,
   "metadata": {},
   "outputs": [
    {
     "name": "stdout",
     "output_type": "stream",
     "text": [
      "Contexts:\n",
      " [['The' 'quick' 'fox' 'jumps']\n",
      " ['quick' 'brown' 'jumps' 'over']\n",
      " ['brown' 'fox' 'over' 'the']\n",
      " ['fox' 'jumps' 'the' 'lazy']\n",
      " ['jumps' 'over' 'lazy' 'dog']]\n",
      "Target:\n",
      " ['brown' 'fox' 'jumps' 'over' 'the']\n"
     ]
    }
   ],
   "source": [
    "import numpy as np\n",
    "\n",
    "def c_c_t(corpus, window_size=1):\n",
    "    # 타겟 단어들은 중심 단어들로, 앞뒤 윈도우 크기만큼의 단어들을 제외한 부분이다.\n",
    "    target = corpus[window_size:-window_size]\n",
    "    \n",
    "    # 컨텍스트 단어들을 담을 리스트를 초기화한다.\n",
    "    contexts = []\n",
    "\n",
    "    # 중심 단어의 인덱스를 순회한다.\n",
    "    for idx in range(window_size, len(corpus) - window_size):\n",
    "        # 현재 중심 단어의 컨텍스트 단어들을 담을 리스트를 초기화한다.\n",
    "        cs = []\n",
    "        \n",
    "        # 중심 단어의 양옆 윈도우 크기만큼의 단어들을 순회한다.\n",
    "        for t in range(-window_size, window_size + 1):\n",
    "            # t가 0인 경우는 중심 단어이므로 건너뛴다.\n",
    "            if t == 0:\n",
    "                continue\n",
    "            \n",
    "            # 컨텍스트 단어를 리스트에 추가한다.\n",
    "            cs.append(corpus[idx + t])\n",
    "        \n",
    "        # 현재 중심 단어의 컨텍스트 단어 리스트를 contexts 리스트에 추가한다.\n",
    "        contexts.append(cs)\n",
    "\n",
    "    # contexts와 target을 넘파이 배열로 변환하여 반환한다.\n",
    "    return np.array(contexts), np.array(target)\n",
    "\n",
    "# 예제 문장\n",
    "corpus = [\"The\", \"quick\", \"brown\", \"fox\", \"jumps\", \"over\", \"the\", \"lazy\", \"dog\"]\n",
    "# 윈도우 크기 설정\n",
    "window_size = 2\n",
    "# 함수 호출\n",
    "contexts, target = c_c_t(corpus, window_size)\n",
    "\n",
    "# 결과 출력\n",
    "print(\"Contexts:\\n\", contexts)\n",
    "print(\"Target:\\n\", target)\n"
   ]
  },
  {
   "cell_type": "code",
   "execution_count": 9,
   "metadata": {},
   "outputs": [
    {
     "name": "stdout",
     "output_type": "stream",
     "text": [
      "col (2, 3, 3, 3, 224, 224)\n",
      "y_max 224\n",
      "col (2, 3, 3, 3, 224, 224)\n",
      "img (2, 3, 226, 226)\n",
      "col (2, 3, 3, 3, 224, 224)\n",
      "img (2, 3, 226, 226)\n",
      "col (2, 3, 3, 3, 224, 224)\n",
      "img (2, 3, 226, 226)\n",
      "y_max 225\n",
      "col (2, 3, 3, 3, 224, 224)\n",
      "img (2, 3, 226, 226)\n",
      "col (2, 3, 3, 3, 224, 224)\n",
      "img (2, 3, 226, 226)\n",
      "col (2, 3, 3, 3, 224, 224)\n",
      "img (2, 3, 226, 226)\n",
      "y_max 226\n",
      "col (2, 3, 3, 3, 224, 224)\n",
      "img (2, 3, 226, 226)\n",
      "col (2, 3, 3, 3, 224, 224)\n",
      "img (2, 3, 226, 226)\n",
      "col (2, 3, 3, 3, 224, 224)\n",
      "img (2, 3, 226, 226)\n",
      "Shape of the input data: (2, 3, 224, 224)\n",
      "Shape of the output data: (100352, 27)\n"
     ]
    }
   ],
   "source": [
    "import numpy as np\n",
    "\n",
    "def im2col(input_data, filter_h, filter_w, stride=1, pad=0):\n",
    "    \"\"\"다수의 이미지를 입력받아 2차원 배열로 변환한다(평탄화).\n",
    "    \n",
    "    Parameters\n",
    "    ----------\n",
    "    input_data : 4차원 배열 형태의 입력 데이터(이미지 수, 채널 수, 높이, 너비)\n",
    "    filter_h : 필터의 높이\n",
    "    filter_w : 필터의 너비\n",
    "    stride : 스트라이드\n",
    "    pad : 패딩\n",
    "    \n",
    "    Returns\n",
    "    -------\n",
    "    col : 2차원 배열\n",
    "    \"\"\"\n",
    "    # 입력 데이터의 형상 정보(N: 이미지 수, C: 채널 수, H: 높이, W: 너비)를 얻어온다.\n",
    "    N, C, H, W = input_data.shape\n",
    "    \n",
    "    # 출력 높이와 너비를 계산한다.\n",
    "    out_h = (H + 2*pad - filter_h) // stride + 1\n",
    "    out_w = (W + 2*pad - filter_w) // stride + 1\n",
    "\n",
    "    # 입력 데이터에 패딩을 추가한다.\n",
    "    img = np.pad(input_data, [(0,0), (0,0), (pad, pad), (pad, pad)], 'constant')\n",
    "    \n",
    "    # 필터 적용을 위한 빈 배열을 생성한다.\n",
    "    # shape: (N, C, filter_h, filter_w, out_h, out_w)\n",
    "    col = np.zeros((N, C, filter_h, filter_w, out_h, out_w))\n",
    "    print(\"col\",col.shape)\n",
    "    # 필터의 높이 방향으로 순회한다.\n",
    "    for y in range(filter_h):\n",
    "        # 스트라이드를 고려한 y_max를 계산한다.\n",
    "        y_max = y + stride * out_h\n",
    "        print(\"y_max\",y_max)\n",
    "        # 필터의 너비 방향으로 순회한다.\n",
    "        for x in range(filter_w):\n",
    "            # 스트라이드를 고려한 x_max를 계산한다.\n",
    "            x_max = x + stride * out_w\n",
    "            \n",
    "            # 필터 영역의 값을 col 배열에 할당한다.\n",
    "            col[:, :, y, x, :, :] = img[:, :, y:y_max:stride, x:x_max:stride]\n",
    "            print(\"col\",col.shape)\n",
    "            print(\"img\",img.shape)\n",
    "    # col 배열을 재배열(transpose)하고 2차원 배열로 변환(reshape)한다.\n",
    "    col = col.transpose(0, 4, 5, 1, 2, 3).reshape(N * out_h * out_w, -1)\n",
    "    \n",
    "    return col\n",
    "\n",
    "# 예제 사용법\n",
    "input_data = np.random.rand(2, 3, 224, 224)  # (10개의 이미지, 3개의 채널, 28x28 크기)\n",
    "filter_h = 3  # 필터 높이\n",
    "filter_w = 3  # 필터 너비\n",
    "stride = 1  # 스트라이드\n",
    "pad = 1  # 패딩\n",
    "\n",
    "# im2col 함수 호출\n",
    "col = im2col(input_data, filter_h, filter_w, stride, pad)\n",
    "\n",
    "print(\"Shape of the input data:\", input_data.shape)\n",
    "print(\"Shape of the output data:\", col.shape)\n"
   ]
  }
 ],
 "metadata": {
  "kernelspec": {
   "display_name": "transformer",
   "language": "python",
   "name": "python3"
  },
  "language_info": {
   "codemirror_mode": {
    "name": "ipython",
    "version": 3
   },
   "file_extension": ".py",
   "mimetype": "text/x-python",
   "name": "python",
   "nbconvert_exporter": "python",
   "pygments_lexer": "ipython3",
   "version": "3.12.2"
  }
 },
 "nbformat": 4,
 "nbformat_minor": 2
}
