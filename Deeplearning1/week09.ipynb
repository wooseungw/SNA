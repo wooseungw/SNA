{
 "cells": [
  {
   "cell_type": "code",
   "execution_count": 2,
   "metadata": {},
   "outputs": [
    {
     "name": "stdout",
     "output_type": "stream",
     "text": [
      "{'a': 0.995, 'b': 1.99}\n"
     ]
    }
   ],
   "source": [
    "import numpy as np\n",
    "\n",
    "class SGD:\n",
    "    def __init__(self, lr) -> None:\n",
    "        self.lr = lr\n",
    "    def update(self, params, grads):\n",
    "        for key in params.keys():\n",
    "            params[key] -= self.lr * grads[key]\n",
    "\n",
    "BTS = SGD(0.05)\n",
    "prams = {'a': 1, 'b': 2}\n",
    "grads = {'a': 0.1, 'b': 0.2}\n",
    "BTS.update(prams, grads)\n",
    "print(prams) # {'a': 0.95, 'b': 1.9}"
   ]
  },
  {
   "cell_type": "code",
   "execution_count": 6,
   "metadata": {},
   "outputs": [
    {
     "name": "stdout",
     "output_type": "stream",
     "text": [
      "{'a': 0.995, 'b': 1.99}\n"
     ]
    }
   ],
   "source": [
    "class Momentum:\n",
    "    def __init__(self,lr,momentum) -> None:\n",
    "        self.lr = lr    \n",
    "        self.momentum = momentum\n",
    "        self.v = None\n",
    "    def update(self,params, grads):\n",
    "        if self.v is None:\n",
    "            self.v = {}\n",
    "            for key, val in params.items():\n",
    "                self.v[key] = np.zeros_like(val)   \n",
    "        \n",
    "        for key in params.keys():\n",
    "            self.v[key] = self.momentum * self.v[key] - self.lr * grads[key]\n",
    "            params[key] += self.v[key]\n",
    "\n",
    "momentum = Momentum(0.05,0.9)\n",
    "prams = {'a': 1, 'b': 2}\n",
    "grads = {'a': 0.1, 'b': 0.2}\n",
    "momentum.update(prams, grads)\n",
    "print(prams) # {'a': 0.995, 'b': 1.99}"
   ]
  },
  {
   "cell_type": "code",
   "execution_count": 11,
   "metadata": {},
   "outputs": [
    {
     "name": "stdout",
     "output_type": "stream",
     "text": [
      "{'a': 0.99000000999999, 'b': 1.9900000049999975}\n"
     ]
    }
   ],
   "source": [
    "class AdaGrad:\n",
    "    def __init__(self,lr) -> None:\n",
    "        self.lr = lr\n",
    "        self.h = None\n",
    "        \n",
    "    def update(self, params, grads):\n",
    "        if self.h is None:\n",
    "            self.h = {}\n",
    "            for key, val in params.items():\n",
    "                self.h[key] = np.zeros_like(val)\n",
    "        for key in params.keys():\n",
    "            self.h[key] += grads[key] * grads[key]\n",
    "            params[key] -= self.lr * grads[key] / (np.sqrt(self.h[key]) + 1e-7)\n",
    "            \n",
    "ada = AdaGrad(0.01)\n",
    "prams = {'a': 1.0, 'b': 2.0}\n",
    "grads = {'a': 0.1, 'b': 0.2}\n",
    "ada.update(prams, grads)\n",
    "print(prams) # {'a': 0.9999999999999999, 'b': 1.9999999999999998}"
   ]
  },
  {
   "cell_type": "markdown",
   "metadata": {},
   "source": [
    "레포트는 옵티마이저 비교하는 것 코드, 그래프 출력까지한걸 올려야함 이번주까지"
   ]
  }
 ],
 "metadata": {
  "kernelspec": {
   "display_name": "transformer",
   "language": "python",
   "name": "python3"
  },
  "language_info": {
   "codemirror_mode": {
    "name": "ipython",
    "version": 3
   },
   "file_extension": ".py",
   "mimetype": "text/x-python",
   "name": "python",
   "nbconvert_exporter": "python",
   "pygments_lexer": "ipython3",
   "version": "3.12.2"
  }
 },
 "nbformat": 4,
 "nbformat_minor": 2
}
