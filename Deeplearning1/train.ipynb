{
 "cells": [
  {
   "cell_type": "code",
   "execution_count": 3,
   "metadata": {},
   "outputs": [
    {
     "name": "stdout",
     "output_type": "stream",
     "text": [
      "train acc, test acc | 0.0820, 0.0790\n",
      "train acc, test acc | 0.9006, 0.9024\n",
      "train acc, test acc | 0.9232, 0.9251\n",
      "train acc, test acc | 0.9355, 0.9353\n",
      "train acc, test acc | 0.9464, 0.9450\n",
      "train acc, test acc | 0.9520, 0.9478\n",
      "train acc, test acc | 0.9581, 0.9562\n",
      "train acc, test acc | 0.9625, 0.9590\n",
      "train acc, test acc | 0.9651, 0.9612\n",
      "train acc, test acc | 0.9676, 0.9621\n",
      "train acc, test acc | 0.9704, 0.9650\n",
      "train acc, test acc | 0.9716, 0.9654\n",
      "train acc, test acc | 0.9734, 0.9656\n",
      "train acc, test acc | 0.9746, 0.9690\n",
      "train acc, test acc | 0.9762, 0.9682\n",
      "train acc, test acc | 0.9778, 0.9693\n",
      "train acc, test acc | 0.9792, 0.9696\n"
     ]
    }
   ],
   "source": [
    "import os, sys\n",
    "sys.path.append(os.pardir)\n",
    "import numpy as np\n",
    "from dataset.mnist import load_mnist\n",
    "from two_layer_net import TwoLayerNet\n",
    "\n",
    "(x_train, t_train), (x_test, t_test) = load_mnist(normalize=True, one_hot_label=True)\n",
    "\n",
    "model = TwoLayerNet(input_size=784, hidden_size=50, output_size=10)\n",
    "\n",
    "iter_num = 10000\n",
    "train_size = x_train.shape[0]   # 60000\n",
    "batch_size = 100\n",
    "learning_rate = 0.1\n",
    "\n",
    "train_loss_list = []\n",
    "train_acc_list = []\n",
    "test_acc_list = []\n",
    "\n",
    "iter_per_epoch = max(train_size / batch_size, 1)\n",
    "for i in range(iter_num):\n",
    "    batch_mask = np.random.choice(train_size, batch_size)\n",
    "    x_batch = x_train[batch_mask]\n",
    "    t_batch = t_train[batch_mask]\n",
    "    grad = model.gradient(x_batch, t_batch)\n",
    "    \n",
    "    for key in ('W1', 'b1', 'W2', 'b2'):\n",
    "        model.params[key] -= learning_rate * grad[key]\n",
    "    \n",
    "    loss = model.loss(x_batch, t_batch)\n",
    "    train_loss_list.append(loss)\n",
    "\n",
    "    if i % iter_per_epoch == 0:\n",
    "        train_acc = model.accuracy(x_train, t_train)\n",
    "        test_acc = model.accuracy(x_test, t_test)\n",
    "        train_acc_list.append(train_acc)\n",
    "        test_acc_list.append(test_acc)\n",
    "        print(f\"train acc, test acc | {train_acc:.4f}, {test_acc:.4f}\")"
   ]
  }
 ],
 "metadata": {
  "kernelspec": {
   "display_name": "transformer",
   "language": "python",
   "name": "python3"
  },
  "language_info": {
   "codemirror_mode": {
    "name": "ipython",
    "version": 3
   },
   "file_extension": ".py",
   "mimetype": "text/x-python",
   "name": "python",
   "nbconvert_exporter": "python",
   "pygments_lexer": "ipython3",
   "version": "3.12.2"
  }
 },
 "nbformat": 4,
 "nbformat_minor": 2
}
