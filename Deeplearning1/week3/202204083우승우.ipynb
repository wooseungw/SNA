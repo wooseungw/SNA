{
 "cells": [
  {
   "cell_type": "code",
   "execution_count": 1,
   "metadata": {},
   "outputs": [
    {
     "name": "stdout",
     "output_type": "stream",
     "text": [
      "(784,)\n",
      "()\n",
      "정확도 0.9352\n"
     ]
    }
   ],
   "source": [
    "import sys, os\n",
    "sys.path.append(os.pardir)\n",
    "import pickle\n",
    "from dataset.mnist import load_mnist\n",
    "import numpy as np\n",
    "from common.functions import sigmoid, softmax\n",
    "\n",
    "def get_data():\n",
    "    (x_train,y_train),(x_test,y_test) = load_mnist(normalize=True,flatten=True)\n",
    "    return x_test,y_test\n",
    "\n",
    "def init_network():\n",
    "    with open(\"sample_weight.pkl\",\"rb\") as f:\n",
    "        network = pickle.load(f)\n",
    "    return network\n",
    "\n",
    "def predict(network,x):\n",
    "    W1,W2,W3 = network['W1'],network['W2'],network['W3']\n",
    "    B1,B2,B3 = network['b1'],network['b2'],network['b3']\n",
    "    \n",
    "    a1 = sigmoid(np.dot(x,W1) +B1)\n",
    "    a2 = sigmoid(np.dot(a1,W2) +B2)\n",
    "    a3 = softmax(np.dot(a2,W3) +B3)\n",
    "    return a3\n",
    "\n",
    "x, t = get_data()\n",
    "print(x[0].shape)\n",
    "print(t[0].shape)\n",
    "network = init_network()\n",
    "accuary_cnt = 0\n",
    "for i in range(len(x)):\n",
    "    y = predict(network,x[i])\n",
    "    p = np.argmax(y)    \n",
    "    if p == t[i]:\n",
    "        accuary_cnt += 1\n",
    "print(\"정확도\",str(float(accuary_cnt)/len(x)))\n"
   ]
  },
  {
   "cell_type": "code",
   "execution_count": 4,
   "metadata": {},
   "outputs": [
    {
     "name": "stdout",
     "output_type": "stream",
     "text": [
      "W1.shape: (784, 50)\n",
      "W2.shape: (50, 100)\n",
      "W3.shape: (100, 10)\n",
      "정확도 0.9352\n"
     ]
    }
   ],
   "source": [
    "import sys, os\n",
    "sys.path.append(os.pardir)\n",
    "import pickle\n",
    "from dataset.mnist import load_mnist\n",
    "from common.functions import sigmoid, softmax\n",
    "\n",
    "def get_data():\n",
    "    (x_train,y_train),(x_test,y_test) = load_mnist(normalize=True,flatten=True,one_hot_label=False)\n",
    "    return x_test,y_test\n",
    "\n",
    "def init_network():\n",
    "    with open(\"sample_weight.pkl\",\"rb\") as f:\n",
    "        network = pickle.load(f)\n",
    "    return network\n",
    "\n",
    "def predict(network,x):\n",
    "    W1,W2,W3 = network['W1'],network['W2'],network['W3']\n",
    "    B1,B2,B3 = network['b1'],network['b2'],network['b3']\n",
    "    \n",
    "    a1 = sigmoid(np.dot(x,W1) +B1)\n",
    "    \n",
    "    a2 = sigmoid(np.dot(a1,W2) +B2)\n",
    "    a3 = softmax(np.dot(a2,W3) +B3)\n",
    "    return a3\n",
    "\n",
    "x, t = get_data()\n",
    "network = init_network()\n",
    "batch_size = 100\n",
    "accuary_cnt = 0\n",
    "\n",
    "W1,W2,W3 = network['W1'],network['W2'],network['W3']\n",
    "print(\"W1.shape:\",W1.shape)\n",
    "print(\"W2.shape:\",W2.shape)\n",
    "print(\"W3.shape:\",W3.shape)\n",
    "    \n",
    "for i in range(0,len(x),batch_size):\n",
    "    x_batch = x[i:i+batch_size]\n",
    "    y_batch = predict(network,x_batch)\n",
    "    p = np.argmax(y_batch,axis=1)    \n",
    "    accuary_cnt += np.sum(p==t[i:i+batch_size])\n",
    "print(\"정확도\",str(float(accuary_cnt)/len(x)))"
   ]
  }
 ],
 "metadata": {
  "kernelspec": {
   "display_name": "transformer",
   "language": "python",
   "name": "python3"
  },
  "language_info": {
   "codemirror_mode": {
    "name": "ipython",
    "version": 3
   },
   "file_extension": ".py",
   "mimetype": "text/x-python",
   "name": "python",
   "nbconvert_exporter": "python",
   "pygments_lexer": "ipython3",
   "version": "3.12.2"
  }
 },
 "nbformat": 4,
 "nbformat_minor": 2
}
